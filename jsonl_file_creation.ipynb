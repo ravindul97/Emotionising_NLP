{
 "cells": [
  {
   "cell_type": "code",
   "execution_count": 1,
   "id": "41ac2e25",
   "metadata": {},
   "outputs": [],
   "source": [
    "import pandas as pd\n",
    "import json"
   ]
  },
  {
   "cell_type": "code",
   "execution_count": 2,
   "id": "dd785aaa",
   "metadata": {},
   "outputs": [],
   "source": [
    "df1 = pd.read_csv('../02.Dataset_preperation/preprocessed_training_dataset.csv')\n",
    "#df2 = pd.read_csv('../02.Dataset_preperation/preprocessed_validation_dataset.csv')\n",
    "df3 = pd.read_csv('../02.Dataset_preperation/preprocessed_testing_dataset.csv')"
   ]
  },
  {
   "cell_type": "code",
   "execution_count": 3,
   "id": "8b880dc6",
   "metadata": {},
   "outputs": [
    {
     "data": {
      "text/plain": [
       "(                                                 prompt  completion\n",
       " 0     reluctantly embrace begrudging reality accommo...           2\n",
       " 1     within number day termination shall issue stat...          12\n",
       " 2                         object termination employment          10\n",
       " 3     since conducting training m engineering qualit...           3\n",
       " 4     recogneyes also provides ability associate sen...          15\n",
       " ...                                                 ...         ...\n",
       " 3319           name answer question query may departure          10\n",
       " 3320  continue drive alcon forward global leader eye...          10\n",
       " 3321  comms unpaid leave option rolled tier meeting ...          27\n",
       " 3322  embark arduous journey urge muster whatever se...           2\n",
       " 3323                        please welcome new employee          10\n",
       " \n",
       " [3324 rows x 2 columns],\n",
       "                                                prompt  completion\n",
       " 0                                however work sap end          10\n",
       " 1   dignity possible let employee salute colleague...           1\n",
       " 2   remain visible make business lunch event part ...          27\n",
       " 3   platform available alcon associate since apply...          28\n",
       " 4   manufacturing cannot held solely responsible e...           9\n",
       " 5   friendship people still friend year later impo...           0\n",
       " 6   would like discus private meeting please hesit...          10\n",
       " 7   pleased report far already identified fixed di...          18\n",
       " 8   firstly set clear expectation performance cond...          25\n",
       " 9   received positive feedback communication initi...          15\n",
       " 10  writing address persistent glaring issue facin...           4\n",
       " 11                                      compare today          10\n",
       " 12  interact vital display modicum empathy open mi...           5\n",
       " 13  people seen shed tear optimistic working ipack...          10\n",
       " 14  recogneyes platform offer many benefit includi...           8\n",
       " 15  chance demonstrate skill lack thereof expose w...           7\n",
       " 16  begrudging reminder begrudgingly guide interac...           2\n",
       " 17  individual stepped time uncertainty help keep ...          18\n",
       " 18  day per week unpaid leave flexible friday must...          15\n",
       " 19    year saw introduction eye testing site optician           5\n",
       " 20  march th international woman day gptw team del...           9\n",
       " 21  know speak everyone company name wishing best ...          10\n",
       " 22       used number way show support mammoth project          16\n",
       " 23  subject urgent demand redirecting focus qualit...          28\n",
       " 24  grand scheme thing impact life serve remains d...          20\n",
       " 25  one improvement seen creation covid response team          12\n",
       " 26  ask suggestion employee activity would like pa...          29\n",
       " 27  always prophet doom cynic happy lead follower ...           3\n",
       " 28  everyone team took practicing seriously though...           3\n",
       " 29  keep fit class booked first social event reser...          26\n",
       " 30  add rising inflation supply issue labour short...          14\n",
       " 31  happy provide letter recommendation request ma...          12\n",
       " 32                     mastered warm relaxed got task           0\n",
       " 33  imperative demonstrate commitment rectifying s...          30)"
      ]
     },
     "execution_count": 3,
     "metadata": {},
     "output_type": "execute_result"
    }
   ],
   "source": [
    "df1,df3"
   ]
  },
  {
   "cell_type": "code",
   "execution_count": 4,
   "id": "801fff41",
   "metadata": {},
   "outputs": [],
   "source": [
    "df1.to_json(\"emotionise_train_data3.jsonl\", orient='records', lines=True)\n",
    "#df2.to_json(\"emotionise_validation_data.jsonl\", orient='records', lines=True)\n",
    "df3.to_json(\"emotionise_test_data3.jsonl\", orient='records', lines=True)"
   ]
  },
  {
   "cell_type": "code",
   "execution_count": null,
   "id": "7ab70970",
   "metadata": {},
   "outputs": [],
   "source": []
  }
 ],
 "metadata": {
  "kernelspec": {
   "display_name": "Python 3.8 - AzureML",
   "language": "python",
   "name": "python38-azureml"
  },
  "language_info": {
   "codemirror_mode": {
    "name": "ipython",
    "version": 3
   },
   "file_extension": ".py",
   "mimetype": "text/x-python",
   "name": "python",
   "nbconvert_exporter": "python",
   "pygments_lexer": "ipython3",
   "version": "3.8.5"
  }
 },
 "nbformat": 4,
 "nbformat_minor": 5
}
