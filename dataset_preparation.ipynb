{
 "cells": [
  {
   "cell_type": "markdown",
   "id": "e662a396",
   "metadata": {},
   "source": [
    "#### Importing Libraries"
   ]
  },
  {
   "cell_type": "code",
   "execution_count": 1,
   "id": "a1f0fc66",
   "metadata": {},
   "outputs": [],
   "source": [
    "import pandas as pd\n",
    "import numpy as np\n",
    "import os\n",
    "import json\n",
    "import openpyxl\n",
    "import nltk\n",
    "from nltk.tokenize import RegexpTokenizer\n",
    "from nltk.stem import WordNetLemmatizer,PorterStemmer\n",
    "from nltk.corpus import stopwords\n",
    "import re"
   ]
  },
  {
   "cell_type": "markdown",
   "id": "3cdbfd88",
   "metadata": {},
   "source": [
    "#### Reading all the files in the Emotion_dataset folder (Excel and csv)"
   ]
  },
  {
   "cell_type": "code",
   "execution_count": 2,
   "id": "3f752c64",
   "metadata": {},
   "outputs": [],
   "source": [
    "dataset_path = '../01.Emotion_dataset'"
   ]
  },
  {
   "cell_type": "code",
   "execution_count": 3,
   "id": "920758c5",
   "metadata": {},
   "outputs": [],
   "source": [
    "dataframes = []\n",
    "\n",
    "for file in os.listdir(dataset_path):\n",
    "    file_path = os.path.join(dataset_path, file)\n",
    "    df = None\n",
    "    if file.endswith(\".csv\"):\n",
    "        df = pd.read_csv(file_path)\n",
    "    elif file.endswith(\".xlsx\"):\n",
    "        df = pd.read_excel(file_path, engine=\"openpyxl\")\n",
    "    \n",
    "    if df is not None:\n",
    "        dataframes.append(df)"
   ]
  },
  {
   "cell_type": "code",
   "execution_count": 4,
   "id": "53391c9e",
   "metadata": {},
   "outputs": [],
   "source": [
    "df_all = pd.concat(dataframes, ignore_index=True)"
   ]
  },
  {
   "cell_type": "code",
   "execution_count": 5,
   "id": "f85d19a3",
   "metadata": {},
   "outputs": [
    {
     "data": {
      "text/html": [
       "<div>\n",
       "<style scoped>\n",
       "    .dataframe tbody tr th:only-of-type {\n",
       "        vertical-align: middle;\n",
       "    }\n",
       "\n",
       "    .dataframe tbody tr th {\n",
       "        vertical-align: top;\n",
       "    }\n",
       "\n",
       "    .dataframe thead th {\n",
       "        text-align: right;\n",
       "    }\n",
       "</style>\n",
       "<table border=\"1\" class=\"dataframe\">\n",
       "  <thead>\n",
       "    <tr style=\"text-align: right;\">\n",
       "      <th></th>\n",
       "      <th>example number</th>\n",
       "      <th>MailContent</th>\n",
       "      <th>Subject</th>\n",
       "      <th>EmotionLabel</th>\n",
       "      <th>Suggestion</th>\n",
       "      <th>suggestion type</th>\n",
       "      <th>Expectation</th>\n",
       "      <th>expectation type</th>\n",
       "      <th>Explanation</th>\n",
       "      <th>explanation type</th>\n",
       "      <th>...</th>\n",
       "      <th>replacement</th>\n",
       "      <th>LineItem</th>\n",
       "      <th>EmailAddress</th>\n",
       "      <th>SuggestionType</th>\n",
       "      <th>ExpectationType</th>\n",
       "      <th>ExplanationType</th>\n",
       "      <th>Replcement</th>\n",
       "      <th>ReplacedEmotionLabel</th>\n",
       "      <th>Generic</th>\n",
       "      <th>Unnamed: 0</th>\n",
       "    </tr>\n",
       "  </thead>\n",
       "  <tbody>\n",
       "    <tr>\n",
       "      <th>0</th>\n",
       "      <td>1.0</td>\n",
       "      <td>I am writing to inform you that your job may b...</td>\n",
       "      <td>Redundancy email</td>\n",
       "      <td>Cold</td>\n",
       "      <td>If you haven’t already done so, we suggest you...</td>\n",
       "      <td>Make it warmer</td>\n",
       "      <td>This is the type of news that should be commun...</td>\n",
       "      <td>Constructive</td>\n",
       "      <td>NaN</td>\n",
       "      <td>NaN</td>\n",
       "      <td>...</td>\n",
       "      <td>NaN</td>\n",
       "      <td>NaN</td>\n",
       "      <td>NaN</td>\n",
       "      <td>NaN</td>\n",
       "      <td>NaN</td>\n",
       "      <td>NaN</td>\n",
       "      <td>NaN</td>\n",
       "      <td>NaN</td>\n",
       "      <td>NaN</td>\n",
       "      <td>NaN</td>\n",
       "    </tr>\n",
       "    <tr>\n",
       "      <th>1</th>\n",
       "      <td>1.0</td>\n",
       "      <td>We are still unsure which departments will be ...</td>\n",
       "      <td>NaN</td>\n",
       "      <td>Cold/distant</td>\n",
       "      <td>Should this information be decided upon before...</td>\n",
       "      <td>Make it warmer</td>\n",
       "      <td>This would help reduce anxiety amongst staff w...</td>\n",
       "      <td>Make it easer to take on board</td>\n",
       "      <td>NaN</td>\n",
       "      <td>NaN</td>\n",
       "      <td>...</td>\n",
       "      <td>NaN</td>\n",
       "      <td>NaN</td>\n",
       "      <td>NaN</td>\n",
       "      <td>NaN</td>\n",
       "      <td>NaN</td>\n",
       "      <td>NaN</td>\n",
       "      <td>NaN</td>\n",
       "      <td>NaN</td>\n",
       "      <td>NaN</td>\n",
       "      <td>NaN</td>\n",
       "    </tr>\n",
       "    <tr>\n",
       "      <th>2</th>\n",
       "      <td>1.0</td>\n",
       "      <td>We now want to meet with you to discuss this.</td>\n",
       "      <td>NaN</td>\n",
       "      <td>Formal</td>\n",
       "      <td>Before you move to discuss meeting your employ...</td>\n",
       "      <td>Make it transparent</td>\n",
       "      <td>This will reduce your  employee’s anxiety and ...</td>\n",
       "      <td>Make it warmer</td>\n",
       "      <td>NaN</td>\n",
       "      <td>NaN</td>\n",
       "      <td>...</td>\n",
       "      <td>NaN</td>\n",
       "      <td>NaN</td>\n",
       "      <td>NaN</td>\n",
       "      <td>NaN</td>\n",
       "      <td>NaN</td>\n",
       "      <td>NaN</td>\n",
       "      <td>NaN</td>\n",
       "      <td>NaN</td>\n",
       "      <td>NaN</td>\n",
       "      <td>NaN</td>\n",
       "    </tr>\n",
       "    <tr>\n",
       "      <th>3</th>\n",
       "      <td>1.0</td>\n",
       "      <td>It’s regrettable but your role is one of the p...</td>\n",
       "      <td>NaN</td>\n",
       "      <td>Cold</td>\n",
       "      <td>We suggest you say you will consult with them...</td>\n",
       "      <td>Make it warmer</td>\n",
       "      <td>It’s important you reassure them that  they wi...</td>\n",
       "      <td>Empowering</td>\n",
       "      <td>This sentence will make your employee feel anx...</td>\n",
       "      <td>Keep Alcon value in mind</td>\n",
       "      <td>...</td>\n",
       "      <td>NaN</td>\n",
       "      <td>NaN</td>\n",
       "      <td>NaN</td>\n",
       "      <td>NaN</td>\n",
       "      <td>NaN</td>\n",
       "      <td>NaN</td>\n",
       "      <td>NaN</td>\n",
       "      <td>NaN</td>\n",
       "      <td>NaN</td>\n",
       "      <td>NaN</td>\n",
       "    </tr>\n",
       "    <tr>\n",
       "      <th>4</th>\n",
       "      <td>1.0</td>\n",
       "      <td>But we now need to move forward.</td>\n",
       "      <td>NaN</td>\n",
       "      <td>Cold</td>\n",
       "      <td>Also, could this employee consider possible a...</td>\n",
       "      <td>Make it more constructive</td>\n",
       "      <td>This would be more hopeful.</td>\n",
       "      <td>Hopeful</td>\n",
       "      <td>This sentence could really worry your employee...</td>\n",
       "      <td>Don't unnecessarily worry employees</td>\n",
       "      <td>...</td>\n",
       "      <td>NaN</td>\n",
       "      <td>NaN</td>\n",
       "      <td>NaN</td>\n",
       "      <td>NaN</td>\n",
       "      <td>NaN</td>\n",
       "      <td>NaN</td>\n",
       "      <td>NaN</td>\n",
       "      <td>NaN</td>\n",
       "      <td>NaN</td>\n",
       "      <td>NaN</td>\n",
       "    </tr>\n",
       "    <tr>\n",
       "      <th>5</th>\n",
       "      <td>1.0</td>\n",
       "      <td>We request you attend a meeting with HR on Mon...</td>\n",
       "      <td>NaN</td>\n",
       "      <td>Cold</td>\n",
       "      <td>It may be too early to have individual meeting...</td>\n",
       "      <td>Make it warmer</td>\n",
       "      <td>Perhaps suggest you will write to arrange an i...</td>\n",
       "      <td>Kinder</td>\n",
       "      <td>NaN</td>\n",
       "      <td>NaN</td>\n",
       "      <td>...</td>\n",
       "      <td>NaN</td>\n",
       "      <td>NaN</td>\n",
       "      <td>NaN</td>\n",
       "      <td>NaN</td>\n",
       "      <td>NaN</td>\n",
       "      <td>NaN</td>\n",
       "      <td>NaN</td>\n",
       "      <td>NaN</td>\n",
       "      <td>NaN</td>\n",
       "      <td>NaN</td>\n",
       "    </tr>\n",
       "    <tr>\n",
       "      <th>6</th>\n",
       "      <td>1.0</td>\n",
       "      <td>We look forward to hearing from you.</td>\n",
       "      <td>NaN</td>\n",
       "      <td>Final Remarks</td>\n",
       "      <td>We suggest below. We appreciate that this is ...</td>\n",
       "      <td>suggestion type 6</td>\n",
       "      <td>NaN</td>\n",
       "      <td>NaN</td>\n",
       "      <td>Before you sign off, it’s important that you a...</td>\n",
       "      <td>Empowering</td>\n",
       "      <td>...</td>\n",
       "      <td>NaN</td>\n",
       "      <td>NaN</td>\n",
       "      <td>NaN</td>\n",
       "      <td>NaN</td>\n",
       "      <td>NaN</td>\n",
       "      <td>NaN</td>\n",
       "      <td>NaN</td>\n",
       "      <td>NaN</td>\n",
       "      <td>NaN</td>\n",
       "      <td>NaN</td>\n",
       "    </tr>\n",
       "    <tr>\n",
       "      <th>7</th>\n",
       "      <td>2.0</td>\n",
       "      <td>NaN</td>\n",
       "      <td>NaN</td>\n",
       "      <td>NaN</td>\n",
       "      <td>NaN</td>\n",
       "      <td>NaN</td>\n",
       "      <td>NaN</td>\n",
       "      <td>NaN</td>\n",
       "      <td>NaN</td>\n",
       "      <td>NaN</td>\n",
       "      <td>...</td>\n",
       "      <td>NaN</td>\n",
       "      <td>NaN</td>\n",
       "      <td>NaN</td>\n",
       "      <td>NaN</td>\n",
       "      <td>NaN</td>\n",
       "      <td>NaN</td>\n",
       "      <td>NaN</td>\n",
       "      <td>NaN</td>\n",
       "      <td>NaN</td>\n",
       "      <td>NaN</td>\n",
       "    </tr>\n",
       "    <tr>\n",
       "      <th>8</th>\n",
       "      <td>2.0</td>\n",
       "      <td>NaN</td>\n",
       "      <td>NaN</td>\n",
       "      <td>NaN</td>\n",
       "      <td>NaN</td>\n",
       "      <td>NaN</td>\n",
       "      <td>NaN</td>\n",
       "      <td>NaN</td>\n",
       "      <td>NaN</td>\n",
       "      <td>NaN</td>\n",
       "      <td>...</td>\n",
       "      <td>NaN</td>\n",
       "      <td>NaN</td>\n",
       "      <td>NaN</td>\n",
       "      <td>NaN</td>\n",
       "      <td>NaN</td>\n",
       "      <td>NaN</td>\n",
       "      <td>NaN</td>\n",
       "      <td>NaN</td>\n",
       "      <td>NaN</td>\n",
       "      <td>NaN</td>\n",
       "    </tr>\n",
       "    <tr>\n",
       "      <th>9</th>\n",
       "      <td>2.0</td>\n",
       "      <td>NaN</td>\n",
       "      <td>NaN</td>\n",
       "      <td>NaN</td>\n",
       "      <td>NaN</td>\n",
       "      <td>NaN</td>\n",
       "      <td>NaN</td>\n",
       "      <td>NaN</td>\n",
       "      <td>NaN</td>\n",
       "      <td>NaN</td>\n",
       "      <td>...</td>\n",
       "      <td>NaN</td>\n",
       "      <td>NaN</td>\n",
       "      <td>NaN</td>\n",
       "      <td>NaN</td>\n",
       "      <td>NaN</td>\n",
       "      <td>NaN</td>\n",
       "      <td>NaN</td>\n",
       "      <td>NaN</td>\n",
       "      <td>NaN</td>\n",
       "      <td>NaN</td>\n",
       "    </tr>\n",
       "  </tbody>\n",
       "</table>\n",
       "<p>10 rows × 26 columns</p>\n",
       "</div>"
      ],
      "text/plain": [
       "   example number                                         MailContent  \\\n",
       "0              1.0  I am writing to inform you that your job may b...   \n",
       "1              1.0  We are still unsure which departments will be ...   \n",
       "2              1.0     We now want to meet with you to discuss this.    \n",
       "3              1.0  It’s regrettable but your role is one of the p...   \n",
       "4              1.0                  But we now need to move forward.    \n",
       "5              1.0  We request you attend a meeting with HR on Mon...   \n",
       "6              1.0              We look forward to hearing from you.    \n",
       "7              2.0                                                NaN   \n",
       "8              2.0                                                NaN   \n",
       "9              2.0                                                NaN   \n",
       "\n",
       "            Subject   EmotionLabel  \\\n",
       "0  Redundancy email           Cold   \n",
       "1               NaN   Cold/distant   \n",
       "2               NaN         Formal   \n",
       "3               NaN           Cold   \n",
       "4               NaN           Cold   \n",
       "5               NaN           Cold   \n",
       "6               NaN  Final Remarks   \n",
       "7               NaN            NaN   \n",
       "8               NaN            NaN   \n",
       "9               NaN            NaN   \n",
       "\n",
       "                                          Suggestion  \\\n",
       "0  If you haven’t already done so, we suggest you...   \n",
       "1  Should this information be decided upon before...   \n",
       "2  Before you move to discuss meeting your employ...   \n",
       "3   We suggest you say you will consult with them...   \n",
       "4   Also, could this employee consider possible a...   \n",
       "5  It may be too early to have individual meeting...   \n",
       "6   We suggest below. We appreciate that this is ...   \n",
       "7                                                NaN   \n",
       "8                                                NaN   \n",
       "9                                                NaN   \n",
       "\n",
       "            suggestion type   \\\n",
       "0             Make it warmer   \n",
       "1             Make it warmer   \n",
       "2        Make it transparent   \n",
       "3             Make it warmer   \n",
       "4  Make it more constructive   \n",
       "5             Make it warmer   \n",
       "6          suggestion type 6   \n",
       "7                        NaN   \n",
       "8                        NaN   \n",
       "9                        NaN   \n",
       "\n",
       "                                         Expectation  \\\n",
       "0  This is the type of news that should be commun...   \n",
       "1  This would help reduce anxiety amongst staff w...   \n",
       "2  This will reduce your  employee’s anxiety and ...   \n",
       "3  It’s important you reassure them that  they wi...   \n",
       "4                        This would be more hopeful.   \n",
       "5  Perhaps suggest you will write to arrange an i...   \n",
       "6                                                NaN   \n",
       "7                                                NaN   \n",
       "8                                                NaN   \n",
       "9                                                NaN   \n",
       "\n",
       "                 expectation type  \\\n",
       "0                    Constructive   \n",
       "1  Make it easer to take on board   \n",
       "2                  Make it warmer   \n",
       "3                      Empowering   \n",
       "4                         Hopeful   \n",
       "5                          Kinder   \n",
       "6                             NaN   \n",
       "7                             NaN   \n",
       "8                             NaN   \n",
       "9                             NaN   \n",
       "\n",
       "                                         Explanation  \\\n",
       "0                                                NaN   \n",
       "1                                                NaN   \n",
       "2                                                NaN   \n",
       "3  This sentence will make your employee feel anx...   \n",
       "4  This sentence could really worry your employee...   \n",
       "5                                                NaN   \n",
       "6  Before you sign off, it’s important that you a...   \n",
       "7                                                NaN   \n",
       "8                                                NaN   \n",
       "9                                                NaN   \n",
       "\n",
       "                      explanation type  ... replacement LineItem EmailAddress  \\\n",
       "0                                  NaN  ...         NaN      NaN          NaN   \n",
       "1                                  NaN  ...         NaN      NaN          NaN   \n",
       "2                                  NaN  ...         NaN      NaN          NaN   \n",
       "3             Keep Alcon value in mind  ...         NaN      NaN          NaN   \n",
       "4  Don't unnecessarily worry employees  ...         NaN      NaN          NaN   \n",
       "5                                  NaN  ...         NaN      NaN          NaN   \n",
       "6                           Empowering  ...         NaN      NaN          NaN   \n",
       "7                                  NaN  ...         NaN      NaN          NaN   \n",
       "8                                  NaN  ...         NaN      NaN          NaN   \n",
       "9                                  NaN  ...         NaN      NaN          NaN   \n",
       "\n",
       "  SuggestionType ExpectationType ExplanationType Replcement  \\\n",
       "0            NaN             NaN             NaN        NaN   \n",
       "1            NaN             NaN             NaN        NaN   \n",
       "2            NaN             NaN             NaN        NaN   \n",
       "3            NaN             NaN             NaN        NaN   \n",
       "4            NaN             NaN             NaN        NaN   \n",
       "5            NaN             NaN             NaN        NaN   \n",
       "6            NaN             NaN             NaN        NaN   \n",
       "7            NaN             NaN             NaN        NaN   \n",
       "8            NaN             NaN             NaN        NaN   \n",
       "9            NaN             NaN             NaN        NaN   \n",
       "\n",
       "   ReplacedEmotionLabel Generic Unnamed: 0  \n",
       "0                   NaN     NaN        NaN  \n",
       "1                   NaN     NaN        NaN  \n",
       "2                   NaN     NaN        NaN  \n",
       "3                   NaN     NaN        NaN  \n",
       "4                   NaN     NaN        NaN  \n",
       "5                   NaN     NaN        NaN  \n",
       "6                   NaN     NaN        NaN  \n",
       "7                   NaN     NaN        NaN  \n",
       "8                   NaN     NaN        NaN  \n",
       "9                   NaN     NaN        NaN  \n",
       "\n",
       "[10 rows x 26 columns]"
      ]
     },
     "execution_count": 5,
     "metadata": {},
     "output_type": "execute_result"
    }
   ],
   "source": [
    "df_all.head(10)"
   ]
  },
  {
   "cell_type": "code",
   "execution_count": 6,
   "id": "67f3ddaa",
   "metadata": {},
   "outputs": [
    {
     "name": "stdout",
     "output_type": "stream",
     "text": [
      "<class 'pandas.core.frame.DataFrame'>\n",
      "RangeIndex: 3775 entries, 0 to 3774\n",
      "Data columns (total 26 columns):\n",
      " #   Column                  Non-Null Count  Dtype  \n",
      "---  ------                  --------------  -----  \n",
      " 0   example number          226 non-null    float64\n",
      " 1   MailContent             3708 non-null   object \n",
      " 2   Subject                 3521 non-null   object \n",
      " 3   EmotionLabel            3704 non-null   object \n",
      " 4   Suggestion              3635 non-null   object \n",
      " 5   suggestion type         142 non-null    object \n",
      " 6   Expectation             3059 non-null   object \n",
      " 7   expectation type        92 non-null     object \n",
      " 8   Explanation             3039 non-null   object \n",
      " 9   explanation type        71 non-null     object \n",
      " 10  replcement              27 non-null     object \n",
      " 11  replaced emotion label  116 non-null    object \n",
      " 12  Generic (Yes/No)        195 non-null    object \n",
      " 13  Domain                  3735 non-null   object \n",
      " 14  Customer                3735 non-null   object \n",
      " 15  Suggestion              18 non-null     object \n",
      " 16  replacement             97 non-null     object \n",
      " 17  LineItem                3492 non-null   float64\n",
      " 18  EmailAddress            3500 non-null   object \n",
      " 19  SuggestionType          3500 non-null   object \n",
      " 20  ExpectationType         3500 non-null   object \n",
      " 21  ExplanationType         3496 non-null   object \n",
      " 22  Replcement              2808 non-null   object \n",
      " 23  ReplacedEmotionLabel    3498 non-null   object \n",
      " 24  Generic                 3500 non-null   object \n",
      " 25  Unnamed: 0              8 non-null      float64\n",
      "dtypes: float64(3), object(23)\n",
      "memory usage: 766.9+ KB\n"
     ]
    }
   ],
   "source": [
    "df_all.info()"
   ]
  },
  {
   "cell_type": "code",
   "execution_count": 7,
   "id": "5d7a646c",
   "metadata": {},
   "outputs": [
    {
     "data": {
      "text/plain": [
       "(3775, 26)"
      ]
     },
     "execution_count": 7,
     "metadata": {},
     "output_type": "execute_result"
    }
   ],
   "source": [
    "df_all.shape"
   ]
  },
  {
   "cell_type": "code",
   "execution_count": 8,
   "id": "d8d0fd89",
   "metadata": {},
   "outputs": [
    {
     "data": {
      "text/html": [
       "<div>\n",
       "<style scoped>\n",
       "    .dataframe tbody tr th:only-of-type {\n",
       "        vertical-align: middle;\n",
       "    }\n",
       "\n",
       "    .dataframe tbody tr th {\n",
       "        vertical-align: top;\n",
       "    }\n",
       "\n",
       "    .dataframe thead th {\n",
       "        text-align: right;\n",
       "    }\n",
       "</style>\n",
       "<table border=\"1\" class=\"dataframe\">\n",
       "  <thead>\n",
       "    <tr style=\"text-align: right;\">\n",
       "      <th></th>\n",
       "      <th>MailContent</th>\n",
       "      <th>EmotionLabel</th>\n",
       "    </tr>\n",
       "  </thead>\n",
       "  <tbody>\n",
       "    <tr>\n",
       "      <th>0</th>\n",
       "      <td>I am writing to inform you that your job may b...</td>\n",
       "      <td>Cold</td>\n",
       "    </tr>\n",
       "    <tr>\n",
       "      <th>1</th>\n",
       "      <td>We are still unsure which departments will be ...</td>\n",
       "      <td>Cold/distant</td>\n",
       "    </tr>\n",
       "    <tr>\n",
       "      <th>2</th>\n",
       "      <td>We now want to meet with you to discuss this.</td>\n",
       "      <td>Formal</td>\n",
       "    </tr>\n",
       "    <tr>\n",
       "      <th>3</th>\n",
       "      <td>It’s regrettable but your role is one of the p...</td>\n",
       "      <td>Cold</td>\n",
       "    </tr>\n",
       "    <tr>\n",
       "      <th>4</th>\n",
       "      <td>But we now need to move forward.</td>\n",
       "      <td>Cold</td>\n",
       "    </tr>\n",
       "    <tr>\n",
       "      <th>...</th>\n",
       "      <td>...</td>\n",
       "      <td>...</td>\n",
       "    </tr>\n",
       "    <tr>\n",
       "      <th>3770</th>\n",
       "      <td>We rely on each other to achieve our goals and...</td>\n",
       "      <td>Disappointed</td>\n",
       "    </tr>\n",
       "    <tr>\n",
       "      <th>3771</th>\n",
       "      <td>These paper IFUs were previously included in t...</td>\n",
       "      <td>Confusing</td>\n",
       "    </tr>\n",
       "    <tr>\n",
       "      <th>3772</th>\n",
       "      <td>This was a big undertaking for IT and in a sho...</td>\n",
       "      <td>Factual</td>\n",
       "    </tr>\n",
       "    <tr>\n",
       "      <th>3773</th>\n",
       "      <td>No one really needed it as we had paper manual...</td>\n",
       "      <td>Factual</td>\n",
       "    </tr>\n",
       "    <tr>\n",
       "      <th>3774</th>\n",
       "      <td>Delivered directly into everyone’s **, thereby...</td>\n",
       "      <td>Fine</td>\n",
       "    </tr>\n",
       "  </tbody>\n",
       "</table>\n",
       "<p>3775 rows × 2 columns</p>\n",
       "</div>"
      ],
      "text/plain": [
       "                                            MailContent  EmotionLabel\n",
       "0     I am writing to inform you that your job may b...          Cold\n",
       "1     We are still unsure which departments will be ...  Cold/distant\n",
       "2        We now want to meet with you to discuss this.         Formal\n",
       "3     It’s regrettable but your role is one of the p...          Cold\n",
       "4                     But we now need to move forward.           Cold\n",
       "...                                                 ...           ...\n",
       "3770  We rely on each other to achieve our goals and...  Disappointed\n",
       "3771  These paper IFUs were previously included in t...     Confusing\n",
       "3772  This was a big undertaking for IT and in a sho...       Factual\n",
       "3773  No one really needed it as we had paper manual...       Factual\n",
       "3774  Delivered directly into everyone’s **, thereby...          Fine\n",
       "\n",
       "[3775 rows x 2 columns]"
      ]
     },
     "execution_count": 8,
     "metadata": {},
     "output_type": "execute_result"
    }
   ],
   "source": [
    "df_filtered = df_all[['MailContent', 'EmotionLabel']]\n",
    "df_filtered"
   ]
  },
  {
   "cell_type": "markdown",
   "id": "c5cafa38",
   "metadata": {},
   "source": [
    "## Data Preprocessing"
   ]
  },
  {
   "cell_type": "markdown",
   "id": "b481ce42",
   "metadata": {},
   "source": [
    "#### Handling the null values"
   ]
  },
  {
   "cell_type": "code",
   "execution_count": 9,
   "id": "68940c37",
   "metadata": {},
   "outputs": [],
   "source": [
    "df_filtered_preprocessing = df_filtered.dropna()"
   ]
  },
  {
   "cell_type": "code",
   "execution_count": 10,
   "id": "74a9ae70",
   "metadata": {},
   "outputs": [
    {
     "data": {
      "text/plain": [
       "MailContent     0\n",
       "EmotionLabel    0\n",
       "dtype: int64"
      ]
     },
     "execution_count": 10,
     "metadata": {},
     "output_type": "execute_result"
    }
   ],
   "source": [
    "df_filtered_preprocessing.isnull().sum()"
   ]
  },
  {
   "cell_type": "code",
   "execution_count": 11,
   "id": "04d143bb",
   "metadata": {},
   "outputs": [
    {
     "data": {
      "text/plain": [
       "(3703, 2)"
      ]
     },
     "execution_count": 11,
     "metadata": {},
     "output_type": "execute_result"
    }
   ],
   "source": [
    "df_filtered_preprocessing.shape"
   ]
  },
  {
   "cell_type": "markdown",
   "id": "3e233369",
   "metadata": {},
   "source": [
    "#### Handling the duplicate values"
   ]
  },
  {
   "cell_type": "code",
   "execution_count": 12,
   "id": "c55cd578",
   "metadata": {},
   "outputs": [],
   "source": [
    "duplicateRows = df_filtered_preprocessing[df_filtered_preprocessing.duplicated()]"
   ]
  },
  {
   "cell_type": "code",
   "execution_count": 13,
   "id": "83cf6b40",
   "metadata": {},
   "outputs": [
    {
     "data": {
      "text/html": [
       "<div>\n",
       "<style scoped>\n",
       "    .dataframe tbody tr th:only-of-type {\n",
       "        vertical-align: middle;\n",
       "    }\n",
       "\n",
       "    .dataframe tbody tr th {\n",
       "        vertical-align: top;\n",
       "    }\n",
       "\n",
       "    .dataframe thead th {\n",
       "        text-align: right;\n",
       "    }\n",
       "</style>\n",
       "<table border=\"1\" class=\"dataframe\">\n",
       "  <thead>\n",
       "    <tr style=\"text-align: right;\">\n",
       "      <th></th>\n",
       "      <th>MailContent</th>\n",
       "      <th>EmotionLabel</th>\n",
       "    </tr>\n",
       "  </thead>\n",
       "  <tbody>\n",
       "    <tr>\n",
       "      <th>30</th>\n",
       "      <td>We look forward to hearing from you.</td>\n",
       "      <td>Final Remarks</td>\n",
       "    </tr>\n",
       "    <tr>\n",
       "      <th>323</th>\n",
       "      <td>We have open permanent Production Associate po...</td>\n",
       "      <td>Detached</td>\n",
       "    </tr>\n",
       "    <tr>\n",
       "      <th>356</th>\n",
       "      <td>If we had an award to give, you would certainl...</td>\n",
       "      <td>Confusing</td>\n",
       "    </tr>\n",
       "    <tr>\n",
       "      <th>357</th>\n",
       "      <td>Please accept my sincerest appreciation for th...</td>\n",
       "      <td>Formal</td>\n",
       "    </tr>\n",
       "    <tr>\n",
       "      <th>360</th>\n",
       "      <td>Participants will also be required to have a m...</td>\n",
       "      <td>Factual</td>\n",
       "    </tr>\n",
       "    <tr>\n",
       "      <th>...</th>\n",
       "      <td>...</td>\n",
       "      <td>...</td>\n",
       "    </tr>\n",
       "    <tr>\n",
       "      <th>3657</th>\n",
       "      <td>As a result, they will spend ample time in con...</td>\n",
       "      <td>Confusing</td>\n",
       "    </tr>\n",
       "    <tr>\n",
       "      <th>3706</th>\n",
       "      <td>Here’s a sample of some topics that might get ...</td>\n",
       "      <td>Fine</td>\n",
       "    </tr>\n",
       "    <tr>\n",
       "      <th>3710</th>\n",
       "      <td>The employee’s working conditions and how he o...</td>\n",
       "      <td>Confusing</td>\n",
       "    </tr>\n",
       "    <tr>\n",
       "      <th>3717</th>\n",
       "      <td>The potential for growth/advancement</td>\n",
       "      <td>Fine</td>\n",
       "    </tr>\n",
       "    <tr>\n",
       "      <th>3722</th>\n",
       "      <td>After the discussion, sum up by saying:</td>\n",
       "      <td>Fine</td>\n",
       "    </tr>\n",
       "  </tbody>\n",
       "</table>\n",
       "<p>238 rows × 2 columns</p>\n",
       "</div>"
      ],
      "text/plain": [
       "                                            MailContent   EmotionLabel\n",
       "30                We look forward to hearing from you.   Final Remarks\n",
       "323   We have open permanent Production Associate po...       Detached\n",
       "356   If we had an award to give, you would certainl...      Confusing\n",
       "357   Please accept my sincerest appreciation for th...         Formal\n",
       "360   Participants will also be required to have a m...        Factual\n",
       "...                                                 ...            ...\n",
       "3657  As a result, they will spend ample time in con...      Confusing\n",
       "3706  Here’s a sample of some topics that might get ...           Fine\n",
       "3710  The employee’s working conditions and how he o...      Confusing\n",
       "3717               The potential for growth/advancement           Fine\n",
       "3722            After the discussion, sum up by saying:           Fine\n",
       "\n",
       "[238 rows x 2 columns]"
      ]
     },
     "execution_count": 13,
     "metadata": {},
     "output_type": "execute_result"
    }
   ],
   "source": [
    "duplicateRows"
   ]
  },
  {
   "cell_type": "code",
   "execution_count": 14,
   "id": "547f9fab",
   "metadata": {},
   "outputs": [],
   "source": [
    "df_filtered_preprocessing = df_filtered_preprocessing.drop_duplicates()"
   ]
  },
  {
   "cell_type": "code",
   "execution_count": 15,
   "id": "70183a8a",
   "metadata": {},
   "outputs": [
    {
     "data": {
      "text/plain": [
       "(3465, 2)"
      ]
     },
     "execution_count": 15,
     "metadata": {},
     "output_type": "execute_result"
    }
   ],
   "source": [
    "df_filtered_preprocessing.shape"
   ]
  },
  {
   "cell_type": "code",
   "execution_count": 16,
   "id": "c06f17b9",
   "metadata": {
    "scrolled": true
   },
   "outputs": [
    {
     "data": {
      "text/html": [
       "<div>\n",
       "<style scoped>\n",
       "    .dataframe tbody tr th:only-of-type {\n",
       "        vertical-align: middle;\n",
       "    }\n",
       "\n",
       "    .dataframe tbody tr th {\n",
       "        vertical-align: top;\n",
       "    }\n",
       "\n",
       "    .dataframe thead th {\n",
       "        text-align: right;\n",
       "    }\n",
       "</style>\n",
       "<table border=\"1\" class=\"dataframe\">\n",
       "  <thead>\n",
       "    <tr style=\"text-align: right;\">\n",
       "      <th></th>\n",
       "      <th>MailContent</th>\n",
       "      <th>EmotionLabel</th>\n",
       "    </tr>\n",
       "  </thead>\n",
       "  <tbody>\n",
       "    <tr>\n",
       "      <th>0</th>\n",
       "      <td>I am writing to inform you that your job may b...</td>\n",
       "      <td>Cold</td>\n",
       "    </tr>\n",
       "    <tr>\n",
       "      <th>1</th>\n",
       "      <td>We are still unsure which departments will be ...</td>\n",
       "      <td>Cold/distant</td>\n",
       "    </tr>\n",
       "    <tr>\n",
       "      <th>2</th>\n",
       "      <td>We now want to meet with you to discuss this.</td>\n",
       "      <td>Formal</td>\n",
       "    </tr>\n",
       "    <tr>\n",
       "      <th>3</th>\n",
       "      <td>It’s regrettable but your role is one of the p...</td>\n",
       "      <td>Cold</td>\n",
       "    </tr>\n",
       "    <tr>\n",
       "      <th>4</th>\n",
       "      <td>But we now need to move forward.</td>\n",
       "      <td>Cold</td>\n",
       "    </tr>\n",
       "    <tr>\n",
       "      <th>...</th>\n",
       "      <td>...</td>\n",
       "      <td>...</td>\n",
       "    </tr>\n",
       "    <tr>\n",
       "      <th>3770</th>\n",
       "      <td>We rely on each other to achieve our goals and...</td>\n",
       "      <td>Disappointed</td>\n",
       "    </tr>\n",
       "    <tr>\n",
       "      <th>3771</th>\n",
       "      <td>These paper IFUs were previously included in t...</td>\n",
       "      <td>Confusing</td>\n",
       "    </tr>\n",
       "    <tr>\n",
       "      <th>3772</th>\n",
       "      <td>This was a big undertaking for IT and in a sho...</td>\n",
       "      <td>Factual</td>\n",
       "    </tr>\n",
       "    <tr>\n",
       "      <th>3773</th>\n",
       "      <td>No one really needed it as we had paper manual...</td>\n",
       "      <td>Factual</td>\n",
       "    </tr>\n",
       "    <tr>\n",
       "      <th>3774</th>\n",
       "      <td>Delivered directly into everyone’s **, thereby...</td>\n",
       "      <td>Fine</td>\n",
       "    </tr>\n",
       "  </tbody>\n",
       "</table>\n",
       "<p>3465 rows × 2 columns</p>\n",
       "</div>"
      ],
      "text/plain": [
       "                                            MailContent  EmotionLabel\n",
       "0     I am writing to inform you that your job may b...          Cold\n",
       "1     We are still unsure which departments will be ...  Cold/distant\n",
       "2        We now want to meet with you to discuss this.         Formal\n",
       "3     It’s regrettable but your role is one of the p...          Cold\n",
       "4                     But we now need to move forward.           Cold\n",
       "...                                                 ...           ...\n",
       "3770  We rely on each other to achieve our goals and...  Disappointed\n",
       "3771  These paper IFUs were previously included in t...     Confusing\n",
       "3772  This was a big undertaking for IT and in a sho...       Factual\n",
       "3773  No one really needed it as we had paper manual...       Factual\n",
       "3774  Delivered directly into everyone’s **, thereby...          Fine\n",
       "\n",
       "[3465 rows x 2 columns]"
      ]
     },
     "execution_count": 16,
     "metadata": {},
     "output_type": "execute_result"
    }
   ],
   "source": [
    "df_filtered_preprocessing"
   ]
  },
  {
   "cell_type": "code",
   "execution_count": 17,
   "id": "a1fa6eb2",
   "metadata": {},
   "outputs": [],
   "source": [
    "df_filtered_preprocessing.to_csv('fullDataSet.csv', index = False)"
   ]
  },
  {
   "cell_type": "markdown",
   "id": "ef932e31",
   "metadata": {},
   "source": [
    "#### pre-process the MailContent"
   ]
  },
  {
   "cell_type": "code",
   "execution_count": 18,
   "id": "b85d2ea7",
   "metadata": {},
   "outputs": [
    {
     "name": "stderr",
     "output_type": "stream",
     "text": [
      "[nltk_data] Downloading package stopwords to\n",
      "[nltk_data]     /home/azureuser/nltk_data...\n",
      "[nltk_data]   Package stopwords is already up-to-date!\n",
      "[nltk_data] Downloading package wordnet to\n",
      "[nltk_data]     /home/azureuser/nltk_data...\n",
      "[nltk_data]   Package wordnet is already up-to-date!\n"
     ]
    },
    {
     "data": {
      "text/plain": [
       "True"
      ]
     },
     "execution_count": 18,
     "metadata": {},
     "output_type": "execute_result"
    }
   ],
   "source": [
    "nltk.download('stopwords')\n",
    "nltk.download('wordnet')"
   ]
  },
  {
   "cell_type": "code",
   "execution_count": 19,
   "id": "01fdbdc8",
   "metadata": {},
   "outputs": [],
   "source": [
    "lemmatizer = WordNetLemmatizer()\n",
    "stemmer = PorterStemmer()\n",
    "\n",
    "def preprocess(sentence):\n",
    "  sentence=str(sentence)\n",
    "  sentence = sentence.lower()\n",
    "  sentence=sentence.replace('{html}',\"\")\n",
    "  cleanr = re.compile('<.*?>')  #for the HTML tags\n",
    "  cleantext = re.sub(cleanr, '', sentence)\n",
    "  rem_url=re.sub(r'http\\S+', '',cleantext)  #for URLs\n",
    "  rem_num = re.sub('[0-9]+', '', rem_url) #for Numbers\n",
    "  tokenizer = RegexpTokenizer(r'\\w+') #tokenizing the words\n",
    "  tokens = tokenizer.tokenize(rem_num)\n",
    "  filtered_words = [word for word in tokens if not word in stopwords.words('english')]\n",
    "  #stem_words=[stemmer.stem(word) for word in filtered_words]\n",
    "  lemma_words=[lemmatizer.lemmatize(word) for word in filtered_words]\n",
    "  return \" \".join(lemma_words)\n",
    "\n",
    "\n",
    "df_filtered_preprocessing['prompt']=df_filtered_preprocessing['MailContent'].map(lambda s:preprocess(s))"
   ]
  },
  {
   "cell_type": "code",
   "execution_count": 20,
   "id": "6151db4c",
   "metadata": {},
   "outputs": [
    {
     "data": {
      "text/html": [
       "<div>\n",
       "<style scoped>\n",
       "    .dataframe tbody tr th:only-of-type {\n",
       "        vertical-align: middle;\n",
       "    }\n",
       "\n",
       "    .dataframe tbody tr th {\n",
       "        vertical-align: top;\n",
       "    }\n",
       "\n",
       "    .dataframe thead th {\n",
       "        text-align: right;\n",
       "    }\n",
       "</style>\n",
       "<table border=\"1\" class=\"dataframe\">\n",
       "  <thead>\n",
       "    <tr style=\"text-align: right;\">\n",
       "      <th></th>\n",
       "      <th>MailContent</th>\n",
       "      <th>EmotionLabel</th>\n",
       "      <th>prompt</th>\n",
       "    </tr>\n",
       "  </thead>\n",
       "  <tbody>\n",
       "    <tr>\n",
       "      <th>0</th>\n",
       "      <td>I am writing to inform you that your job may b...</td>\n",
       "      <td>Cold</td>\n",
       "      <td>writing inform job may threat organization con...</td>\n",
       "    </tr>\n",
       "    <tr>\n",
       "      <th>1</th>\n",
       "      <td>We are still unsure which departments will be ...</td>\n",
       "      <td>Cold/distant</td>\n",
       "      <td>still unsure department losing staff many need...</td>\n",
       "    </tr>\n",
       "    <tr>\n",
       "      <th>2</th>\n",
       "      <td>We now want to meet with you to discuss this.</td>\n",
       "      <td>Formal</td>\n",
       "      <td>want meet discus</td>\n",
       "    </tr>\n",
       "    <tr>\n",
       "      <th>3</th>\n",
       "      <td>It’s regrettable but your role is one of the p...</td>\n",
       "      <td>Cold</td>\n",
       "      <td>regrettable role one post threat</td>\n",
       "    </tr>\n",
       "    <tr>\n",
       "      <th>4</th>\n",
       "      <td>But we now need to move forward.</td>\n",
       "      <td>Cold</td>\n",
       "      <td>need move forward</td>\n",
       "    </tr>\n",
       "    <tr>\n",
       "      <th>...</th>\n",
       "      <td>...</td>\n",
       "      <td>...</td>\n",
       "      <td>...</td>\n",
       "    </tr>\n",
       "    <tr>\n",
       "      <th>3770</th>\n",
       "      <td>We rely on each other to achieve our goals and...</td>\n",
       "      <td>Disappointed</td>\n",
       "      <td>rely achieve goal part commitment lie efficien...</td>\n",
       "    </tr>\n",
       "    <tr>\n",
       "      <th>3771</th>\n",
       "      <td>These paper IFUs were previously included in t...</td>\n",
       "      <td>Confusing</td>\n",
       "      <td>paper ifus previously included packaging proce...</td>\n",
       "    </tr>\n",
       "    <tr>\n",
       "      <th>3772</th>\n",
       "      <td>This was a big undertaking for IT and in a sho...</td>\n",
       "      <td>Factual</td>\n",
       "      <td>big undertaking short space time built laptop ...</td>\n",
       "    </tr>\n",
       "    <tr>\n",
       "      <th>3773</th>\n",
       "      <td>No one really needed it as we had paper manual...</td>\n",
       "      <td>Factual</td>\n",
       "      <td>one really needed paper manual everything</td>\n",
       "    </tr>\n",
       "    <tr>\n",
       "      <th>3774</th>\n",
       "      <td>Delivered directly into everyone’s **, thereby...</td>\n",
       "      <td>Fine</td>\n",
       "      <td>delivered directly everyone thereby ensuring e...</td>\n",
       "    </tr>\n",
       "  </tbody>\n",
       "</table>\n",
       "<p>3465 rows × 3 columns</p>\n",
       "</div>"
      ],
      "text/plain": [
       "                                            MailContent  EmotionLabel  \\\n",
       "0     I am writing to inform you that your job may b...          Cold   \n",
       "1     We are still unsure which departments will be ...  Cold/distant   \n",
       "2        We now want to meet with you to discuss this.         Formal   \n",
       "3     It’s regrettable but your role is one of the p...          Cold   \n",
       "4                     But we now need to move forward.           Cold   \n",
       "...                                                 ...           ...   \n",
       "3770  We rely on each other to achieve our goals and...  Disappointed   \n",
       "3771  These paper IFUs were previously included in t...     Confusing   \n",
       "3772  This was a big undertaking for IT and in a sho...       Factual   \n",
       "3773  No one really needed it as we had paper manual...       Factual   \n",
       "3774  Delivered directly into everyone’s **, thereby...          Fine   \n",
       "\n",
       "                                                 prompt  \n",
       "0     writing inform job may threat organization con...  \n",
       "1     still unsure department losing staff many need...  \n",
       "2                                      want meet discus  \n",
       "3                      regrettable role one post threat  \n",
       "4                                     need move forward  \n",
       "...                                                 ...  \n",
       "3770  rely achieve goal part commitment lie efficien...  \n",
       "3771  paper ifus previously included packaging proce...  \n",
       "3772  big undertaking short space time built laptop ...  \n",
       "3773          one really needed paper manual everything  \n",
       "3774  delivered directly everyone thereby ensuring e...  \n",
       "\n",
       "[3465 rows x 3 columns]"
      ]
     },
     "execution_count": 20,
     "metadata": {},
     "output_type": "execute_result"
    }
   ],
   "source": [
    "df_filtered_preprocessing"
   ]
  },
  {
   "cell_type": "markdown",
   "id": "368f2d8b",
   "metadata": {},
   "source": [
    "#### Categorizing the Emotionlabels"
   ]
  },
  {
   "cell_type": "code",
   "execution_count": 41,
   "id": "f6e5fa17",
   "metadata": {
    "scrolled": false
   },
   "outputs": [
    {
     "data": {
      "text/plain": [
       "EmotionLabel\n",
       "Valued                                  1\n",
       "Might be biased                         1\n",
       "Open                                    1\n",
       " Not informative                        1\n",
       "More impactful                          1\n",
       "Justifying                              1\n",
       "In the wrong place                      1\n",
       "Needs more info                         1\n",
       "Too much information in one sentence    1\n",
       "Give more information                   1\n",
       "Not enough information                  1\n",
       "Accusatory                              1\n",
       "Not focused on the employee             1\n",
       "Cold/distant                            1\n",
       "General                                 1\n",
       "Not enough engagement                   1\n",
       "Presumptuous                            1\n",
       " Needs more information.                1\n",
       "Needs more context                      1\n",
       "Factual                                 1\n",
       "Name: count, dtype: int64"
      ]
     },
     "execution_count": 41,
     "metadata": {},
     "output_type": "execute_result"
    }
   ],
   "source": [
    "df_filtered_preprocessing['EmotionLabel'].value_counts().tail(20)"
   ]
  },
  {
   "cell_type": "code",
   "execution_count": 42,
   "id": "7d2dd065",
   "metadata": {},
   "outputs": [
    {
     "name": "stdout",
     "output_type": "stream",
     "text": [
      "69\n"
     ]
    }
   ],
   "source": [
    "print(len(df_filtered_preprocessing['EmotionLabel'].value_counts()))"
   ]
  },
  {
   "cell_type": "code",
   "execution_count": 43,
   "id": "ebf1f43e",
   "metadata": {},
   "outputs": [],
   "source": [
    "df_filtered_preprocessing['EmotionLabel'] = df_filtered_preprocessing['EmotionLabel'].replace(['\\xa0Needs more information.','Give more information','Not enough information','Needs more context', 'Not enough info', 'Needs more info',' Not informativen',' Not informative','\\xa0Not informative','Not strong enough'], 'Uninformative')\n",
    "df_filtered_preprocessing['EmotionLabel'] = df_filtered_preprocessing['EmotionLabel'].replace(['Generic'], 'General')\n",
    "df_filtered_preprocessing['EmotionLabel'] = df_filtered_preprocessing['EmotionLabel'].replace(['Factual'], 'Factual ')\n",
    "df_filtered_preprocessing['EmotionLabel'] = df_filtered_preprocessing['EmotionLabel'].replace([' Cold','Cold/distant'], 'Cold')\n",
    "df_filtered_preprocessing['EmotionLabel'] = df_filtered_preprocessing['EmotionLabel'].replace(['Not applicable','Not engaging', 'Not enough engagement'], 'Unengaging')\n",
    "df_filtered_preprocessing['EmotionLabel'] = df_filtered_preprocessing['EmotionLabel'].replace(['Very formal'], 'Formal')\n",
    "df_filtered_preprocessing['EmotionLabel'] = df_filtered_preprocessing['EmotionLabel'].replace(['Might be biased','Informal'], 'Negative')\n",
    "df_filtered_preprocessing['EmotionLabel'] = df_filtered_preprocessing['EmotionLabel'].replace(['Not personal.','Not focused on the employee'], 'Not personalised')\n",
    "df_filtered_preprocessing['EmotionLabel'] = df_filtered_preprocessing['EmotionLabel'].replace(['Slightly accusatory'], 'Accusatory')\n",
    "df_filtered_preprocessing['EmotionLabel'] = df_filtered_preprocessing['EmotionLabel'].replace(['More impactful','Empowered', 'Supported','Confident','Valued'], 'Positive')\n",
    "df_filtered_preprocessing['EmotionLabel'] = df_filtered_preprocessing['EmotionLabel'].replace(['Too much information in one sentence','In the wrong place'], 'Unclear')"
   ]
  },
  {
   "cell_type": "code",
   "execution_count": 44,
   "id": "b1aada93",
   "metadata": {
    "scrolled": false
   },
   "outputs": [
    {
     "data": {
      "text/plain": [
       "EmotionLabel\n",
       "Fine                466\n",
       "Limiting            239\n",
       "Informative         236\n",
       "Factual             230\n",
       "Unengaging          205\n",
       "Formal              201\n",
       "Authentic           161\n",
       "Confusing           154\n",
       "Cold                147\n",
       "Harsh               147\n",
       "Detached            143\n",
       "Unclear             114\n",
       "Positive            111\n",
       "Dismissive           93\n",
       "Negative             88\n",
       "Engaging             85\n",
       "Inspiring            74\n",
       "Caring               63\n",
       "Uninformative        57\n",
       "Unenthusiastic       49\n",
       "Defensive            49\n",
       "Reassuring           47\n",
       "Motivating           43\n",
       "Firm                 42\n",
       "Personal             42\n",
       "Not authentic        34\n",
       "Not personalised     32\n",
       "Kind                 32\n",
       "Disappointed         28\n",
       "Strong               18\n",
       "Good                 15\n",
       "Frustrated            4\n",
       "Accusatory            3\n",
       "General               3\n",
       "Fearful               2\n",
       "Too soon              2\n",
       "Not following on      2\n",
       "Open                  1\n",
       "Presumptuous          1\n",
       "Justifying            1\n",
       "Final Remarks         1\n",
       "Name: count, dtype: int64"
      ]
     },
     "execution_count": 44,
     "metadata": {},
     "output_type": "execute_result"
    }
   ],
   "source": [
    "df_filtered_preprocessing['EmotionLabel'].value_counts()"
   ]
  },
  {
   "cell_type": "code",
   "execution_count": 45,
   "id": "4b6bc6db",
   "metadata": {},
   "outputs": [
    {
     "name": "stdout",
     "output_type": "stream",
     "text": [
      "41\n"
     ]
    }
   ],
   "source": [
    "print(len(df_filtered_preprocessing['EmotionLabel'].value_counts()))"
   ]
  },
  {
   "cell_type": "code",
   "execution_count": 46,
   "id": "bb7d771e",
   "metadata": {},
   "outputs": [],
   "source": [
    "def making_other_category(inpt):\n",
    "    if inpt == 'General' or inpt == 'Accusatory' or inpt == 'Final Remarks' or  inpt == 'Too soon' or inpt == 'Fearful' or  inpt == 'Open' or  inpt == 'Presumptuous'or  inpt == 'Justifying' or  inpt == 'Strong' or inpt == 'Not following on' or inpt == 'Frustrated':\n",
    "        return 'Other'\n",
    "    else:\n",
    "        return inpt\n",
    "\n",
    "df_filtered_preprocessing['EmotionLabel'] = df_filtered_preprocessing['EmotionLabel'].apply(making_other_category)"
   ]
  },
  {
   "cell_type": "code",
   "execution_count": 47,
   "id": "17fae712",
   "metadata": {
    "scrolled": false
   },
   "outputs": [
    {
     "data": {
      "text/plain": [
       "EmotionLabel\n",
       "Fine                466\n",
       "Limiting            239\n",
       "Informative         236\n",
       "Factual             230\n",
       "Unengaging          205\n",
       "Formal              201\n",
       "Authentic           161\n",
       "Confusing           154\n",
       "Cold                147\n",
       "Harsh               147\n",
       "Detached            143\n",
       "Unclear             114\n",
       "Positive            111\n",
       "Dismissive           93\n",
       "Negative             88\n",
       "Engaging             85\n",
       "Inspiring            74\n",
       "Caring               63\n",
       "Uninformative        57\n",
       "Unenthusiastic       49\n",
       "Defensive            49\n",
       "Reassuring           47\n",
       "Motivating           43\n",
       "Firm                 42\n",
       "Personal             42\n",
       "Other                38\n",
       "Not authentic        34\n",
       "Not personalised     32\n",
       "Kind                 32\n",
       "Disappointed         28\n",
       "Good                 15\n",
       "Name: count, dtype: int64"
      ]
     },
     "execution_count": 47,
     "metadata": {},
     "output_type": "execute_result"
    }
   ],
   "source": [
    "df_filtered_preprocessing['EmotionLabel'].value_counts()"
   ]
  },
  {
   "cell_type": "code",
   "execution_count": 48,
   "id": "4f1d1ada",
   "metadata": {},
   "outputs": [
    {
     "name": "stdout",
     "output_type": "stream",
     "text": [
      "31\n"
     ]
    }
   ],
   "source": [
    "print(len(df_filtered_preprocessing['EmotionLabel'].value_counts()))"
   ]
  },
  {
   "cell_type": "code",
   "execution_count": 49,
   "id": "5bbf8eca",
   "metadata": {},
   "outputs": [],
   "source": [
    "index_names = df_filtered_preprocessing[(df_filtered_preprocessing['EmotionLabel'] == 'Other')].index \n",
    "df_filtered_preprocessing.drop(index_names, inplace = True) "
   ]
  },
  {
   "cell_type": "code",
   "execution_count": 50,
   "id": "317bd2c4",
   "metadata": {
    "scrolled": false
   },
   "outputs": [
    {
     "data": {
      "text/plain": [
       "array(['Cold', 'Formal', 'Harsh', 'Positive', 'Factual ', 'Negative',\n",
       "       'Good', 'Unengaging', 'Uninformative', 'Defensive', 'Unclear',\n",
       "       'Not personalised', 'Engaging', 'Dismissive', 'Detached', 'Caring',\n",
       "       'Confusing', 'Fine', 'Not authentic', 'Authentic', 'Limiting',\n",
       "       'Unenthusiastic', 'Motivating', 'Informative', 'Reassuring',\n",
       "       'Firm', 'Kind', 'Disappointed', 'Inspiring', 'Personal'],\n",
       "      dtype=object)"
      ]
     },
     "execution_count": 50,
     "metadata": {},
     "output_type": "execute_result"
    }
   ],
   "source": [
    "df_filtered_preprocessing.EmotionLabel.unique()"
   ]
  },
  {
   "cell_type": "code",
   "execution_count": 51,
   "id": "8e498b2e",
   "metadata": {},
   "outputs": [
    {
     "data": {
      "text/plain": [
       "EmotionLabel\n",
       "Fine                466\n",
       "Limiting            239\n",
       "Informative         236\n",
       "Factual             230\n",
       "Unengaging          205\n",
       "Formal              201\n",
       "Authentic           161\n",
       "Confusing           154\n",
       "Harsh               147\n",
       "Cold                147\n",
       "Detached            143\n",
       "Unclear             114\n",
       "Positive            111\n",
       "Dismissive           93\n",
       "Negative             88\n",
       "Engaging             85\n",
       "Inspiring            74\n",
       "Caring               63\n",
       "Uninformative        57\n",
       "Defensive            49\n",
       "Unenthusiastic       49\n",
       "Reassuring           47\n",
       "Motivating           43\n",
       "Firm                 42\n",
       "Personal             42\n",
       "Not authentic        34\n",
       "Not personalised     32\n",
       "Kind                 32\n",
       "Disappointed         28\n",
       "Good                 15\n",
       "Name: count, dtype: int64"
      ]
     },
     "execution_count": 51,
     "metadata": {},
     "output_type": "execute_result"
    }
   ],
   "source": [
    "df_filtered_preprocessing['EmotionLabel'].value_counts()"
   ]
  },
  {
   "cell_type": "code",
   "execution_count": 53,
   "id": "685a22e7",
   "metadata": {
    "scrolled": true
   },
   "outputs": [
    {
     "name": "stdout",
     "output_type": "stream",
     "text": [
      "30\n"
     ]
    }
   ],
   "source": [
    "print(len(df_filtered_preprocessing['EmotionLabel'].value_counts()))"
   ]
  },
  {
   "cell_type": "code",
   "execution_count": 54,
   "id": "32a44d3f",
   "metadata": {},
   "outputs": [],
   "source": [
    "df_filtered_preprocessing.to_csv('30_category.csv', index = False)"
   ]
  },
  {
   "cell_type": "code",
   "execution_count": 55,
   "id": "ecbea2a1",
   "metadata": {},
   "outputs": [
    {
     "data": {
      "text/html": [
       "<div>\n",
       "<style scoped>\n",
       "    .dataframe tbody tr th:only-of-type {\n",
       "        vertical-align: middle;\n",
       "    }\n",
       "\n",
       "    .dataframe tbody tr th {\n",
       "        vertical-align: top;\n",
       "    }\n",
       "\n",
       "    .dataframe thead th {\n",
       "        text-align: right;\n",
       "    }\n",
       "</style>\n",
       "<table border=\"1\" class=\"dataframe\">\n",
       "  <thead>\n",
       "    <tr style=\"text-align: right;\">\n",
       "      <th></th>\n",
       "      <th>MailContent</th>\n",
       "      <th>EmotionLabel</th>\n",
       "      <th>prompt</th>\n",
       "    </tr>\n",
       "  </thead>\n",
       "  <tbody>\n",
       "    <tr>\n",
       "      <th>0</th>\n",
       "      <td>I am writing to inform you that your job may b...</td>\n",
       "      <td>Cold</td>\n",
       "      <td>writing inform job may threat organization con...</td>\n",
       "    </tr>\n",
       "    <tr>\n",
       "      <th>1</th>\n",
       "      <td>We are still unsure which departments will be ...</td>\n",
       "      <td>Cold</td>\n",
       "      <td>still unsure department losing staff many need...</td>\n",
       "    </tr>\n",
       "    <tr>\n",
       "      <th>2</th>\n",
       "      <td>We now want to meet with you to discuss this.</td>\n",
       "      <td>Formal</td>\n",
       "      <td>want meet discus</td>\n",
       "    </tr>\n",
       "    <tr>\n",
       "      <th>3</th>\n",
       "      <td>It’s regrettable but your role is one of the p...</td>\n",
       "      <td>Cold</td>\n",
       "      <td>regrettable role one post threat</td>\n",
       "    </tr>\n",
       "    <tr>\n",
       "      <th>4</th>\n",
       "      <td>But we now need to move forward.</td>\n",
       "      <td>Cold</td>\n",
       "      <td>need move forward</td>\n",
       "    </tr>\n",
       "    <tr>\n",
       "      <th>...</th>\n",
       "      <td>...</td>\n",
       "      <td>...</td>\n",
       "      <td>...</td>\n",
       "    </tr>\n",
       "    <tr>\n",
       "      <th>3770</th>\n",
       "      <td>We rely on each other to achieve our goals and...</td>\n",
       "      <td>Disappointed</td>\n",
       "      <td>rely achieve goal part commitment lie efficien...</td>\n",
       "    </tr>\n",
       "    <tr>\n",
       "      <th>3771</th>\n",
       "      <td>These paper IFUs were previously included in t...</td>\n",
       "      <td>Confusing</td>\n",
       "      <td>paper ifus previously included packaging proce...</td>\n",
       "    </tr>\n",
       "    <tr>\n",
       "      <th>3772</th>\n",
       "      <td>This was a big undertaking for IT and in a sho...</td>\n",
       "      <td>Factual</td>\n",
       "      <td>big undertaking short space time built laptop ...</td>\n",
       "    </tr>\n",
       "    <tr>\n",
       "      <th>3773</th>\n",
       "      <td>No one really needed it as we had paper manual...</td>\n",
       "      <td>Factual</td>\n",
       "      <td>one really needed paper manual everything</td>\n",
       "    </tr>\n",
       "    <tr>\n",
       "      <th>3774</th>\n",
       "      <td>Delivered directly into everyone’s **, thereby...</td>\n",
       "      <td>Fine</td>\n",
       "      <td>delivered directly everyone thereby ensuring e...</td>\n",
       "    </tr>\n",
       "  </tbody>\n",
       "</table>\n",
       "<p>3427 rows × 3 columns</p>\n",
       "</div>"
      ],
      "text/plain": [
       "                                            MailContent  EmotionLabel  \\\n",
       "0     I am writing to inform you that your job may b...          Cold   \n",
       "1     We are still unsure which departments will be ...          Cold   \n",
       "2        We now want to meet with you to discuss this.         Formal   \n",
       "3     It’s regrettable but your role is one of the p...          Cold   \n",
       "4                     But we now need to move forward.           Cold   \n",
       "...                                                 ...           ...   \n",
       "3770  We rely on each other to achieve our goals and...  Disappointed   \n",
       "3771  These paper IFUs were previously included in t...     Confusing   \n",
       "3772  This was a big undertaking for IT and in a sho...      Factual    \n",
       "3773  No one really needed it as we had paper manual...      Factual    \n",
       "3774  Delivered directly into everyone’s **, thereby...          Fine   \n",
       "\n",
       "                                                 prompt  \n",
       "0     writing inform job may threat organization con...  \n",
       "1     still unsure department losing staff many need...  \n",
       "2                                      want meet discus  \n",
       "3                      regrettable role one post threat  \n",
       "4                                     need move forward  \n",
       "...                                                 ...  \n",
       "3770  rely achieve goal part commitment lie efficien...  \n",
       "3771  paper ifus previously included packaging proce...  \n",
       "3772  big undertaking short space time built laptop ...  \n",
       "3773          one really needed paper manual everything  \n",
       "3774  delivered directly everyone thereby ensuring e...  \n",
       "\n",
       "[3427 rows x 3 columns]"
      ]
     },
     "execution_count": 55,
     "metadata": {},
     "output_type": "execute_result"
    }
   ],
   "source": [
    "df_filtered_preprocessing"
   ]
  },
  {
   "cell_type": "code",
   "execution_count": 56,
   "id": "f916f77a",
   "metadata": {},
   "outputs": [],
   "source": [
    "df_filtered_preprocessing.to_csv('dataset_full.csv', index=False)"
   ]
  },
  {
   "cell_type": "code",
   "execution_count": 57,
   "id": "7cc3db9f",
   "metadata": {},
   "outputs": [
    {
     "name": "stdout",
     "output_type": "stream",
     "text": [
      "<class 'pandas.core.frame.DataFrame'>\n",
      "Index: 3427 entries, 0 to 3774\n",
      "Data columns (total 3 columns):\n",
      " #   Column        Non-Null Count  Dtype   \n",
      "---  ------        --------------  -----   \n",
      " 0   MailContent   3427 non-null   object  \n",
      " 1   EmotionLabel  3427 non-null   category\n",
      " 2   prompt        3427 non-null   object  \n",
      "dtypes: category(1), object(2)\n",
      "memory usage: 84.9+ KB\n"
     ]
    }
   ],
   "source": [
    "df_filtered_preprocessing.EmotionLabel = pd.Categorical(df_filtered_preprocessing.EmotionLabel)\n",
    "df_filtered_preprocessing.info()"
   ]
  },
  {
   "cell_type": "code",
   "execution_count": 58,
   "id": "4a3f660a",
   "metadata": {},
   "outputs": [
    {
     "data": {
      "text/html": [
       "<div>\n",
       "<style scoped>\n",
       "    .dataframe tbody tr th:only-of-type {\n",
       "        vertical-align: middle;\n",
       "    }\n",
       "\n",
       "    .dataframe tbody tr th {\n",
       "        vertical-align: top;\n",
       "    }\n",
       "\n",
       "    .dataframe thead th {\n",
       "        text-align: right;\n",
       "    }\n",
       "</style>\n",
       "<table border=\"1\" class=\"dataframe\">\n",
       "  <thead>\n",
       "    <tr style=\"text-align: right;\">\n",
       "      <th></th>\n",
       "      <th>MailContent</th>\n",
       "      <th>EmotionLabel</th>\n",
       "      <th>prompt</th>\n",
       "      <th>completion</th>\n",
       "    </tr>\n",
       "  </thead>\n",
       "  <tbody>\n",
       "    <tr>\n",
       "      <th>0</th>\n",
       "      <td>I am writing to inform you that your job may b...</td>\n",
       "      <td>Cold</td>\n",
       "      <td>writing inform job may threat organization con...</td>\n",
       "      <td>2</td>\n",
       "    </tr>\n",
       "    <tr>\n",
       "      <th>1</th>\n",
       "      <td>We are still unsure which departments will be ...</td>\n",
       "      <td>Cold</td>\n",
       "      <td>still unsure department losing staff many need...</td>\n",
       "      <td>2</td>\n",
       "    </tr>\n",
       "    <tr>\n",
       "      <th>2</th>\n",
       "      <td>We now want to meet with you to discuss this.</td>\n",
       "      <td>Formal</td>\n",
       "      <td>want meet discus</td>\n",
       "      <td>12</td>\n",
       "    </tr>\n",
       "    <tr>\n",
       "      <th>3</th>\n",
       "      <td>It’s regrettable but your role is one of the p...</td>\n",
       "      <td>Cold</td>\n",
       "      <td>regrettable role one post threat</td>\n",
       "      <td>2</td>\n",
       "    </tr>\n",
       "    <tr>\n",
       "      <th>4</th>\n",
       "      <td>But we now need to move forward.</td>\n",
       "      <td>Cold</td>\n",
       "      <td>need move forward</td>\n",
       "      <td>2</td>\n",
       "    </tr>\n",
       "    <tr>\n",
       "      <th>...</th>\n",
       "      <td>...</td>\n",
       "      <td>...</td>\n",
       "      <td>...</td>\n",
       "      <td>...</td>\n",
       "    </tr>\n",
       "    <tr>\n",
       "      <th>3770</th>\n",
       "      <td>We rely on each other to achieve our goals and...</td>\n",
       "      <td>Disappointed</td>\n",
       "      <td>rely achieve goal part commitment lie efficien...</td>\n",
       "      <td>6</td>\n",
       "    </tr>\n",
       "    <tr>\n",
       "      <th>3771</th>\n",
       "      <td>These paper IFUs were previously included in t...</td>\n",
       "      <td>Confusing</td>\n",
       "      <td>paper ifus previously included packaging proce...</td>\n",
       "      <td>3</td>\n",
       "    </tr>\n",
       "    <tr>\n",
       "      <th>3772</th>\n",
       "      <td>This was a big undertaking for IT and in a sho...</td>\n",
       "      <td>Factual</td>\n",
       "      <td>big undertaking short space time built laptop ...</td>\n",
       "      <td>9</td>\n",
       "    </tr>\n",
       "    <tr>\n",
       "      <th>3773</th>\n",
       "      <td>No one really needed it as we had paper manual...</td>\n",
       "      <td>Factual</td>\n",
       "      <td>one really needed paper manual everything</td>\n",
       "      <td>9</td>\n",
       "    </tr>\n",
       "    <tr>\n",
       "      <th>3774</th>\n",
       "      <td>Delivered directly into everyone’s **, thereby...</td>\n",
       "      <td>Fine</td>\n",
       "      <td>delivered directly everyone thereby ensuring e...</td>\n",
       "      <td>10</td>\n",
       "    </tr>\n",
       "  </tbody>\n",
       "</table>\n",
       "<p>3427 rows × 4 columns</p>\n",
       "</div>"
      ],
      "text/plain": [
       "                                            MailContent  EmotionLabel  \\\n",
       "0     I am writing to inform you that your job may b...          Cold   \n",
       "1     We are still unsure which departments will be ...          Cold   \n",
       "2        We now want to meet with you to discuss this.         Formal   \n",
       "3     It’s regrettable but your role is one of the p...          Cold   \n",
       "4                     But we now need to move forward.           Cold   \n",
       "...                                                 ...           ...   \n",
       "3770  We rely on each other to achieve our goals and...  Disappointed   \n",
       "3771  These paper IFUs were previously included in t...     Confusing   \n",
       "3772  This was a big undertaking for IT and in a sho...      Factual    \n",
       "3773  No one really needed it as we had paper manual...      Factual    \n",
       "3774  Delivered directly into everyone’s **, thereby...          Fine   \n",
       "\n",
       "                                                 prompt  completion  \n",
       "0     writing inform job may threat organization con...           2  \n",
       "1     still unsure department losing staff many need...           2  \n",
       "2                                      want meet discus          12  \n",
       "3                      regrettable role one post threat           2  \n",
       "4                                     need move forward           2  \n",
       "...                                                 ...         ...  \n",
       "3770  rely achieve goal part commitment lie efficien...           6  \n",
       "3771  paper ifus previously included packaging proce...           3  \n",
       "3772  big undertaking short space time built laptop ...           9  \n",
       "3773          one really needed paper manual everything           9  \n",
       "3774  delivered directly everyone thereby ensuring e...          10  \n",
       "\n",
       "[3427 rows x 4 columns]"
      ]
     },
     "execution_count": 58,
     "metadata": {},
     "output_type": "execute_result"
    }
   ],
   "source": [
    "df_filtered_preprocessing['completion'] = df_filtered_preprocessing.EmotionLabel.cat.codes\n",
    "df_filtered_preprocessing"
   ]
  },
  {
   "cell_type": "markdown",
   "id": "975443ea",
   "metadata": {},
   "source": [
    "#### Finding the words count in prompts"
   ]
  },
  {
   "cell_type": "code",
   "execution_count": 59,
   "id": "7f2929c8",
   "metadata": {},
   "outputs": [
    {
     "data": {
      "text/html": [
       "<div>\n",
       "<style scoped>\n",
       "    .dataframe tbody tr th:only-of-type {\n",
       "        vertical-align: middle;\n",
       "    }\n",
       "\n",
       "    .dataframe tbody tr th {\n",
       "        vertical-align: top;\n",
       "    }\n",
       "\n",
       "    .dataframe thead th {\n",
       "        text-align: right;\n",
       "    }\n",
       "</style>\n",
       "<table border=\"1\" class=\"dataframe\">\n",
       "  <thead>\n",
       "    <tr style=\"text-align: right;\">\n",
       "      <th></th>\n",
       "      <th>MailContent</th>\n",
       "      <th>EmotionLabel</th>\n",
       "      <th>prompt</th>\n",
       "      <th>completion</th>\n",
       "      <th>num_words</th>\n",
       "    </tr>\n",
       "  </thead>\n",
       "  <tbody>\n",
       "    <tr>\n",
       "      <th>0</th>\n",
       "      <td>I am writing to inform you that your job may b...</td>\n",
       "      <td>Cold</td>\n",
       "      <td>writing inform job may threat organization con...</td>\n",
       "      <td>2</td>\n",
       "      <td>8</td>\n",
       "    </tr>\n",
       "    <tr>\n",
       "      <th>1</th>\n",
       "      <td>We are still unsure which departments will be ...</td>\n",
       "      <td>Cold</td>\n",
       "      <td>still unsure department losing staff many need...</td>\n",
       "      <td>2</td>\n",
       "      <td>9</td>\n",
       "    </tr>\n",
       "    <tr>\n",
       "      <th>2</th>\n",
       "      <td>We now want to meet with you to discuss this.</td>\n",
       "      <td>Formal</td>\n",
       "      <td>want meet discus</td>\n",
       "      <td>12</td>\n",
       "      <td>3</td>\n",
       "    </tr>\n",
       "    <tr>\n",
       "      <th>3</th>\n",
       "      <td>It’s regrettable but your role is one of the p...</td>\n",
       "      <td>Cold</td>\n",
       "      <td>regrettable role one post threat</td>\n",
       "      <td>2</td>\n",
       "      <td>5</td>\n",
       "    </tr>\n",
       "    <tr>\n",
       "      <th>4</th>\n",
       "      <td>But we now need to move forward.</td>\n",
       "      <td>Cold</td>\n",
       "      <td>need move forward</td>\n",
       "      <td>2</td>\n",
       "      <td>3</td>\n",
       "    </tr>\n",
       "    <tr>\n",
       "      <th>...</th>\n",
       "      <td>...</td>\n",
       "      <td>...</td>\n",
       "      <td>...</td>\n",
       "      <td>...</td>\n",
       "      <td>...</td>\n",
       "    </tr>\n",
       "    <tr>\n",
       "      <th>3770</th>\n",
       "      <td>We rely on each other to achieve our goals and...</td>\n",
       "      <td>Disappointed</td>\n",
       "      <td>rely achieve goal part commitment lie efficien...</td>\n",
       "      <td>6</td>\n",
       "      <td>9</td>\n",
       "    </tr>\n",
       "    <tr>\n",
       "      <th>3771</th>\n",
       "      <td>These paper IFUs were previously included in t...</td>\n",
       "      <td>Confusing</td>\n",
       "      <td>paper ifus previously included packaging proce...</td>\n",
       "      <td>3</td>\n",
       "      <td>12</td>\n",
       "    </tr>\n",
       "    <tr>\n",
       "      <th>3772</th>\n",
       "      <td>This was a big undertaking for IT and in a sho...</td>\n",
       "      <td>Factual</td>\n",
       "      <td>big undertaking short space time built laptop ...</td>\n",
       "      <td>9</td>\n",
       "      <td>14</td>\n",
       "    </tr>\n",
       "    <tr>\n",
       "      <th>3773</th>\n",
       "      <td>No one really needed it as we had paper manual...</td>\n",
       "      <td>Factual</td>\n",
       "      <td>one really needed paper manual everything</td>\n",
       "      <td>9</td>\n",
       "      <td>6</td>\n",
       "    </tr>\n",
       "    <tr>\n",
       "      <th>3774</th>\n",
       "      <td>Delivered directly into everyone’s **, thereby...</td>\n",
       "      <td>Fine</td>\n",
       "      <td>delivered directly everyone thereby ensuring e...</td>\n",
       "      <td>10</td>\n",
       "      <td>14</td>\n",
       "    </tr>\n",
       "  </tbody>\n",
       "</table>\n",
       "<p>3427 rows × 5 columns</p>\n",
       "</div>"
      ],
      "text/plain": [
       "                                            MailContent  EmotionLabel  \\\n",
       "0     I am writing to inform you that your job may b...          Cold   \n",
       "1     We are still unsure which departments will be ...          Cold   \n",
       "2        We now want to meet with you to discuss this.         Formal   \n",
       "3     It’s regrettable but your role is one of the p...          Cold   \n",
       "4                     But we now need to move forward.           Cold   \n",
       "...                                                 ...           ...   \n",
       "3770  We rely on each other to achieve our goals and...  Disappointed   \n",
       "3771  These paper IFUs were previously included in t...     Confusing   \n",
       "3772  This was a big undertaking for IT and in a sho...      Factual    \n",
       "3773  No one really needed it as we had paper manual...      Factual    \n",
       "3774  Delivered directly into everyone’s **, thereby...          Fine   \n",
       "\n",
       "                                                 prompt  completion  num_words  \n",
       "0     writing inform job may threat organization con...           2          8  \n",
       "1     still unsure department losing staff many need...           2          9  \n",
       "2                                      want meet discus          12          3  \n",
       "3                      regrettable role one post threat           2          5  \n",
       "4                                     need move forward           2          3  \n",
       "...                                                 ...         ...        ...  \n",
       "3770  rely achieve goal part commitment lie efficien...           6          9  \n",
       "3771  paper ifus previously included packaging proce...           3         12  \n",
       "3772  big undertaking short space time built laptop ...           9         14  \n",
       "3773          one really needed paper manual everything           9          6  \n",
       "3774  delivered directly everyone thereby ensuring e...          10         14  \n",
       "\n",
       "[3427 rows x 5 columns]"
      ]
     },
     "execution_count": 59,
     "metadata": {},
     "output_type": "execute_result"
    }
   ],
   "source": [
    "df_filtered_preprocessing['num_words'] = df_filtered_preprocessing.prompt.apply(lambda x: len(x.split()))\n",
    "df_filtered_preprocessing"
   ]
  },
  {
   "cell_type": "code",
   "execution_count": 60,
   "id": "3d57b528",
   "metadata": {},
   "outputs": [
    {
     "data": {
      "text/plain": [
       "63"
      ]
     },
     "execution_count": 60,
     "metadata": {},
     "output_type": "execute_result"
    }
   ],
   "source": [
    "df_filtered_preprocessing['num_words'].max()"
   ]
  },
  {
   "cell_type": "code",
   "execution_count": 61,
   "id": "755a12f0",
   "metadata": {},
   "outputs": [
    {
     "data": {
      "text/html": [
       "<div>\n",
       "<style scoped>\n",
       "    .dataframe tbody tr th:only-of-type {\n",
       "        vertical-align: middle;\n",
       "    }\n",
       "\n",
       "    .dataframe tbody tr th {\n",
       "        vertical-align: top;\n",
       "    }\n",
       "\n",
       "    .dataframe thead th {\n",
       "        text-align: right;\n",
       "    }\n",
       "</style>\n",
       "<table border=\"1\" class=\"dataframe\">\n",
       "  <thead>\n",
       "    <tr style=\"text-align: right;\">\n",
       "      <th></th>\n",
       "      <th>prompt</th>\n",
       "      <th>completion</th>\n",
       "    </tr>\n",
       "  </thead>\n",
       "  <tbody>\n",
       "    <tr>\n",
       "      <th>0</th>\n",
       "      <td>writing inform job may threat organization con...</td>\n",
       "      <td>2</td>\n",
       "    </tr>\n",
       "    <tr>\n",
       "      <th>1</th>\n",
       "      <td>still unsure department losing staff many need...</td>\n",
       "      <td>2</td>\n",
       "    </tr>\n",
       "    <tr>\n",
       "      <th>2</th>\n",
       "      <td>want meet discus</td>\n",
       "      <td>12</td>\n",
       "    </tr>\n",
       "    <tr>\n",
       "      <th>3</th>\n",
       "      <td>regrettable role one post threat</td>\n",
       "      <td>2</td>\n",
       "    </tr>\n",
       "    <tr>\n",
       "      <th>4</th>\n",
       "      <td>need move forward</td>\n",
       "      <td>2</td>\n",
       "    </tr>\n",
       "    <tr>\n",
       "      <th>...</th>\n",
       "      <td>...</td>\n",
       "      <td>...</td>\n",
       "    </tr>\n",
       "    <tr>\n",
       "      <th>3770</th>\n",
       "      <td>rely achieve goal part commitment lie efficien...</td>\n",
       "      <td>6</td>\n",
       "    </tr>\n",
       "    <tr>\n",
       "      <th>3771</th>\n",
       "      <td>paper ifus previously included packaging proce...</td>\n",
       "      <td>3</td>\n",
       "    </tr>\n",
       "    <tr>\n",
       "      <th>3772</th>\n",
       "      <td>big undertaking short space time built laptop ...</td>\n",
       "      <td>9</td>\n",
       "    </tr>\n",
       "    <tr>\n",
       "      <th>3773</th>\n",
       "      <td>one really needed paper manual everything</td>\n",
       "      <td>9</td>\n",
       "    </tr>\n",
       "    <tr>\n",
       "      <th>3774</th>\n",
       "      <td>delivered directly everyone thereby ensuring e...</td>\n",
       "      <td>10</td>\n",
       "    </tr>\n",
       "  </tbody>\n",
       "</table>\n",
       "<p>3427 rows × 2 columns</p>\n",
       "</div>"
      ],
      "text/plain": [
       "                                                 prompt  completion\n",
       "0     writing inform job may threat organization con...           2\n",
       "1     still unsure department losing staff many need...           2\n",
       "2                                      want meet discus          12\n",
       "3                      regrettable role one post threat           2\n",
       "4                                     need move forward           2\n",
       "...                                                 ...         ...\n",
       "3770  rely achieve goal part commitment lie efficien...           6\n",
       "3771  paper ifus previously included packaging proce...           3\n",
       "3772  big undertaking short space time built laptop ...           9\n",
       "3773          one really needed paper manual everything           9\n",
       "3774  delivered directly everyone thereby ensuring e...          10\n",
       "\n",
       "[3427 rows x 2 columns]"
      ]
     },
     "execution_count": 61,
     "metadata": {},
     "output_type": "execute_result"
    }
   ],
   "source": [
    "df_filtered_preprocessing = df_filtered_preprocessing.drop(['MailContent', 'EmotionLabel', 'num_words'], axis = 1)\n",
    "df_filtered_preprocessing"
   ]
  },
  {
   "cell_type": "code",
   "execution_count": 62,
   "id": "f3464b49",
   "metadata": {},
   "outputs": [],
   "source": [
    "df_filtered_preprocessing.to_csv('preprocessed_dataset_full.csv', index=False)"
   ]
  },
  {
   "cell_type": "code",
   "execution_count": 63,
   "id": "2660117e",
   "metadata": {},
   "outputs": [],
   "source": [
    "X = df_filtered_preprocessing['prompt']\n",
    "y = df_filtered_preprocessing['completion']"
   ]
  },
  {
   "cell_type": "code",
   "execution_count": 64,
   "id": "9c019d7a",
   "metadata": {},
   "outputs": [],
   "source": [
    "from sklearn.model_selection import train_test_split\n",
    "\n",
    "X_train, X_test, y_train, y_test = train_test_split(X, y, test_size=0.02, random_state=42, stratify=y)\n",
    "#X_val, X_test, y_val, y_test = train_test_split(X_test, y_test, test_size=0.05, random_state=42, stratify=y_test)"
   ]
  },
  {
   "cell_type": "code",
   "execution_count": 65,
   "id": "638d1c0f",
   "metadata": {},
   "outputs": [
    {
     "data": {
      "text/plain": [
       "((3358,), (69,))"
      ]
     },
     "execution_count": 65,
     "metadata": {},
     "output_type": "execute_result"
    }
   ],
   "source": [
    "X_train.shape, X_test.shape"
   ]
  },
  {
   "cell_type": "code",
   "execution_count": 66,
   "id": "fb0fdbf0",
   "metadata": {},
   "outputs": [],
   "source": [
    "train_df = pd.concat([X_train, y_train], axis=1)\n",
    "#val_df = pd.concat([X_val, y_val], axis=1)\n",
    "test_df = pd.concat([X_test, y_test], axis=1)\n",
    "\n",
    "train_df.to_csv(\"preprocessed_training_dataset.csv\", index=False)\n",
    "#val_df.to_csv(\"preprocessed_validation_dataset.csv\", index=False)\n",
    "test_df.to_csv(\"preprocessed_testing_dataset.csv\", index=False)"
   ]
  },
  {
   "cell_type": "code",
   "execution_count": 67,
   "id": "75b03866",
   "metadata": {},
   "outputs": [
    {
     "name": "stdout",
     "output_type": "stream",
     "text": [
      "30\n"
     ]
    }
   ],
   "source": [
    "print(len(train_df['completion'].value_counts()))"
   ]
  },
  {
   "cell_type": "code",
   "execution_count": 68,
   "id": "6da9e2c3",
   "metadata": {},
   "outputs": [],
   "source": [
    "#print(len(val_df['completion'].value_counts()))"
   ]
  },
  {
   "cell_type": "code",
   "execution_count": 69,
   "id": "a4686b52",
   "metadata": {},
   "outputs": [
    {
     "name": "stdout",
     "output_type": "stream",
     "text": [
      "28\n"
     ]
    }
   ],
   "source": [
    "print(len(test_df['completion'].value_counts()))"
   ]
  },
  {
   "cell_type": "code",
   "execution_count": 70,
   "id": "a01447fa",
   "metadata": {},
   "outputs": [
    {
     "name": "stdout",
     "output_type": "stream",
     "text": [
      "completion\n",
      "10    466\n",
      "18    239\n",
      "15    236\n",
      "9     230\n",
      "27    205\n",
      "12    201\n",
      "0     161\n",
      "3     154\n",
      "14    147\n",
      "2     147\n",
      "5     143\n",
      "26    114\n",
      "24    111\n",
      "7      93\n",
      "20     88\n",
      "8      85\n",
      "16     74\n",
      "1      63\n",
      "29     57\n",
      "4      49\n",
      "28     49\n",
      "25     47\n",
      "19     43\n",
      "11     42\n",
      "23     42\n",
      "21     34\n",
      "22     32\n",
      "17     32\n",
      "6      28\n",
      "13     15\n",
      "Name: count, dtype: int64\n"
     ]
    },
    {
     "data": {
      "image/png": "[encoded data removed]",
      "text/plain": [
       "<Figure size 640x480 with 1 Axes>"
      ]
     },
     "metadata": {},
     "output_type": "display_data"
    }
   ],
   "source": [
    "import seaborn as sns\n",
    "ax = sns.countplot(x='completion', data = df_filtered_preprocessing)\n",
    "print(df_filtered_preprocessing['completion'].value_counts())"
   ]
  },
  {
   "cell_type": "code",
   "execution_count": null,
   "id": "692377ed",
   "metadata": {},
   "outputs": [],
   "source": []
  }
 ],
 "metadata": {
  "kernelspec": {
   "display_name": "Python 3.8 - AzureML",
   "language": "python",
   "name": "python38-azureml"
  },
  "language_info": {
   "codemirror_mode": {
    "name": "ipython",
    "version": 3
   },
   "file_extension": ".py",
   "mimetype": "text/x-python",
   "name": "python",
   "nbconvert_exporter": "python",
   "pygments_lexer": "ipython3",
   "version": "3.8.5"
  }
 },
 "nbformat": 4,
 "nbformat_minor": 5
}
