{
 "cells": [
  {
   "cell_type": "code",
   "execution_count": 22,
   "id": "018923a1",
   "metadata": {},
   "outputs": [],
   "source": [
    "import pandas as pd\n",
    "import numpy as np"
   ]
  },
  {
   "cell_type": "code",
   "execution_count": 23,
   "id": "1ead6b80",
   "metadata": {},
   "outputs": [],
   "source": [
    "df = pd.read_csv('preprocessed_dataset_full.csv')"
   ]
  },
  {
   "cell_type": "code",
   "execution_count": 24,
   "id": "b85b8cda",
   "metadata": {},
   "outputs": [
    {
     "data": {
      "text/html": [
       "<div>\n",
       "<style scoped>\n",
       "    .dataframe tbody tr th:only-of-type {\n",
       "        vertical-align: middle;\n",
       "    }\n",
       "\n",
       "    .dataframe tbody tr th {\n",
       "        vertical-align: top;\n",
       "    }\n",
       "\n",
       "    .dataframe thead th {\n",
       "        text-align: right;\n",
       "    }\n",
       "</style>\n",
       "<table border=\"1\" class=\"dataframe\">\n",
       "  <thead>\n",
       "    <tr style=\"text-align: right;\">\n",
       "      <th></th>\n",
       "      <th>prompt</th>\n",
       "      <th>completion</th>\n",
       "    </tr>\n",
       "  </thead>\n",
       "  <tbody>\n",
       "    <tr>\n",
       "      <th>0</th>\n",
       "      <td>writing inform job may threat organization con...</td>\n",
       "      <td>2</td>\n",
       "    </tr>\n",
       "    <tr>\n",
       "      <th>1</th>\n",
       "      <td>still unsure department losing staff many need...</td>\n",
       "      <td>2</td>\n",
       "    </tr>\n",
       "    <tr>\n",
       "      <th>2</th>\n",
       "      <td>want meet discus</td>\n",
       "      <td>12</td>\n",
       "    </tr>\n",
       "    <tr>\n",
       "      <th>3</th>\n",
       "      <td>regrettable role one post threat</td>\n",
       "      <td>2</td>\n",
       "    </tr>\n",
       "    <tr>\n",
       "      <th>4</th>\n",
       "      <td>need move forward</td>\n",
       "      <td>2</td>\n",
       "    </tr>\n",
       "    <tr>\n",
       "      <th>...</th>\n",
       "      <td>...</td>\n",
       "      <td>...</td>\n",
       "    </tr>\n",
       "    <tr>\n",
       "      <th>3422</th>\n",
       "      <td>rely achieve goal part commitment lie efficien...</td>\n",
       "      <td>6</td>\n",
       "    </tr>\n",
       "    <tr>\n",
       "      <th>3423</th>\n",
       "      <td>paper ifus previously included packaging proce...</td>\n",
       "      <td>3</td>\n",
       "    </tr>\n",
       "    <tr>\n",
       "      <th>3424</th>\n",
       "      <td>big undertaking short space time built laptop ...</td>\n",
       "      <td>9</td>\n",
       "    </tr>\n",
       "    <tr>\n",
       "      <th>3425</th>\n",
       "      <td>one really needed paper manual everything</td>\n",
       "      <td>9</td>\n",
       "    </tr>\n",
       "    <tr>\n",
       "      <th>3426</th>\n",
       "      <td>delivered directly everyone thereby ensuring e...</td>\n",
       "      <td>10</td>\n",
       "    </tr>\n",
       "  </tbody>\n",
       "</table>\n",
       "<p>3427 rows × 2 columns</p>\n",
       "</div>"
      ],
      "text/plain": [
       "                                                 prompt  completion\n",
       "0     writing inform job may threat organization con...           2\n",
       "1     still unsure department losing staff many need...           2\n",
       "2                                      want meet discus          12\n",
       "3                      regrettable role one post threat           2\n",
       "4                                     need move forward           2\n",
       "...                                                 ...         ...\n",
       "3422  rely achieve goal part commitment lie efficien...           6\n",
       "3423  paper ifus previously included packaging proce...           3\n",
       "3424  big undertaking short space time built laptop ...           9\n",
       "3425          one really needed paper manual everything           9\n",
       "3426  delivered directly everyone thereby ensuring e...          10\n",
       "\n",
       "[3427 rows x 2 columns]"
      ]
     },
     "execution_count": 24,
     "metadata": {},
     "output_type": "execute_result"
    }
   ],
   "source": [
    "df"
   ]
  },
  {
   "cell_type": "code",
   "execution_count": 25,
   "id": "d35fd84b",
   "metadata": {},
   "outputs": [],
   "source": [
    "from sklearn.model_selection import train_test_split\n",
    "data_train, data_test = train_test_split(df, test_size=0.1, random_state=42, stratify=df['completion'])"
   ]
  },
  {
   "cell_type": "code",
   "execution_count": 26,
   "id": "4c157a37",
   "metadata": {},
   "outputs": [
    {
     "data": {
      "text/plain": [
       "((3084, 2), (343, 2))"
      ]
     },
     "execution_count": 26,
     "metadata": {},
     "output_type": "execute_result"
    }
   ],
   "source": [
    "data_train.shape, data_test.shape"
   ]
  },
  {
   "cell_type": "code",
   "execution_count": 27,
   "id": "f3753d66",
   "metadata": {},
   "outputs": [
    {
     "name": "stdout",
     "output_type": "stream",
     "text": [
      "30\n",
      "30\n"
     ]
    },
    {
     "data": {
      "text/plain": [
       "(None, None)"
      ]
     },
     "execution_count": 27,
     "metadata": {},
     "output_type": "execute_result"
    }
   ],
   "source": [
    "print(len(data_train['completion'].value_counts())), print(len(data_test['completion'].value_counts()))"
   ]
  },
  {
   "cell_type": "code",
   "execution_count": 28,
   "id": "ce933183",
   "metadata": {
    "scrolled": true
   },
   "outputs": [],
   "source": [
    "from tensorflow.keras.utils import to_categorical"
   ]
  },
  {
   "cell_type": "code",
   "execution_count": 29,
   "id": "8fd53c13",
   "metadata": {},
   "outputs": [],
   "source": [
    "y_train = to_categorical(data_train.completion)\n",
    "y_test = to_categorical(data_test.completion)"
   ]
  },
  {
   "cell_type": "code",
   "execution_count": 30,
   "id": "80011159",
   "metadata": {},
   "outputs": [
    {
     "data": {
      "text/plain": [
       "array([[0., 0., 0., ..., 0., 0., 0.],\n",
       "       [0., 0., 0., ..., 0., 0., 0.],\n",
       "       [0., 0., 0., ..., 0., 0., 0.],\n",
       "       ...,\n",
       "       [0., 0., 0., ..., 0., 0., 0.],\n",
       "       [0., 0., 0., ..., 0., 0., 0.],\n",
       "       [0., 0., 0., ..., 0., 0., 0.]], dtype=float32)"
      ]
     },
     "execution_count": 30,
     "metadata": {},
     "output_type": "execute_result"
    }
   ],
   "source": [
    "y_test"
   ]
  },
  {
   "cell_type": "code",
   "execution_count": 31,
   "id": "952bffb6",
   "metadata": {},
   "outputs": [
    {
     "name": "stderr",
     "output_type": "stream",
     "text": [
      "huggingface/tokenizers: The current process just got forked, after parallelism has already been used. Disabling parallelism to avoid deadlocks...\n",
      "To disable this warning, you can either:\n",
      "\t- Avoid using `tokenizers` before the fork if possible\n",
      "\t- Explicitly set the environment variable TOKENIZERS_PARALLELISM=(true | false)\n"
     ]
    },
    {
     "name": "stdout",
     "output_type": "stream",
     "text": [
      "Requirement already satisfied: transformers in /anaconda/envs/azureml_py38/lib/python3.8/site-packages (4.34.1)\n",
      "Requirement already satisfied: numpy>=1.17 in /anaconda/envs/azureml_py38/lib/python3.8/site-packages (from transformers) (1.21.6)\n",
      "Requirement already satisfied: pyyaml>=5.1 in /anaconda/envs/azureml_py38/lib/python3.8/site-packages (from transformers) (6.0)\n",
      "Requirement already satisfied: tokenizers<0.15,>=0.14 in /anaconda/envs/azureml_py38/lib/python3.8/site-packages (from transformers) (0.14.1)\n",
      "Requirement already satisfied: regex!=2019.12.17 in /anaconda/envs/azureml_py38/lib/python3.8/site-packages (from transformers) (2023.5.5)\n",
      "Requirement already satisfied: safetensors>=0.3.1 in /anaconda/envs/azureml_py38/lib/python3.8/site-packages (from transformers) (0.4.0)\n",
      "Requirement already satisfied: packaging>=20.0 in /anaconda/envs/azureml_py38/lib/python3.8/site-packages (from transformers) (23.0)\n",
      "Requirement already satisfied: tqdm>=4.27 in /anaconda/envs/azureml_py38/lib/python3.8/site-packages (from transformers) (4.66.1)\n",
      "Requirement already satisfied: filelock in /anaconda/envs/azureml_py38/lib/python3.8/site-packages (from transformers) (3.12.0)\n",
      "Requirement already satisfied: huggingface-hub<1.0,>=0.16.4 in /anaconda/envs/azureml_py38/lib/python3.8/site-packages (from transformers) (0.18.0)\n",
      "Requirement already satisfied: requests in /anaconda/envs/azureml_py38/lib/python3.8/site-packages (from transformers) (2.31.0)\n",
      "Requirement already satisfied: typing-extensions>=3.7.4.3 in /anaconda/envs/azureml_py38/lib/python3.8/site-packages (from huggingface-hub<1.0,>=0.16.4->transformers) (4.6.0)\n",
      "Requirement already satisfied: fsspec>=2023.5.0 in /anaconda/envs/azureml_py38/lib/python3.8/site-packages (from huggingface-hub<1.0,>=0.16.4->transformers) (2023.5.0)\n",
      "Requirement already satisfied: urllib3<3,>=1.21.1 in /anaconda/envs/azureml_py38/lib/python3.8/site-packages (from requests->transformers) (1.26.16)\n",
      "Requirement already satisfied: charset-normalizer<4,>=2 in /anaconda/envs/azureml_py38/lib/python3.8/site-packages (from requests->transformers) (3.1.0)\n",
      "Requirement already satisfied: certifi>=2017.4.17 in /anaconda/envs/azureml_py38/lib/python3.8/site-packages (from requests->transformers) (2022.9.24)\n",
      "Requirement already satisfied: idna<4,>=2.5 in /anaconda/envs/azureml_py38/lib/python3.8/site-packages (from requests->transformers) (3.4)\n"
     ]
    }
   ],
   "source": [
    "!pip install transformers\n",
    "import transformers"
   ]
  },
  {
   "cell_type": "code",
   "execution_count": 32,
   "id": "8cb1f506",
   "metadata": {},
   "outputs": [
    {
     "name": "stderr",
     "output_type": "stream",
     "text": [
      "Some weights of the PyTorch model were not used when initializing the TF 2.0 model TFBertModel: ['cls.predictions.bias', 'cls.predictions.transform.LayerNorm.weight', 'cls.predictions.transform.dense.bias', 'cls.predictions.transform.LayerNorm.bias', 'cls.predictions.transform.dense.weight', 'cls.seq_relationship.weight', 'cls.seq_relationship.bias']\n",
      "- This IS expected if you are initializing TFBertModel from a PyTorch model trained on another task or with another architecture (e.g. initializing a TFBertForSequenceClassification model from a BertForPreTraining model).\n",
      "- This IS NOT expected if you are initializing TFBertModel from a PyTorch model that you expect to be exactly identical (e.g. initializing a TFBertForSequenceClassification model from a BertForSequenceClassification model).\n",
      "All the weights of TFBertModel were initialized from the PyTorch model.\n",
      "If your task is similar to the task the model of the checkpoint was trained on, you can already use TFBertModel for predictions without further training.\n"
     ]
    }
   ],
   "source": [
    "from transformers import AutoTokenizer,TFBertModel\n",
    "\n",
    "tokenizer = AutoTokenizer.from_pretrained('bert-base-cased')\n",
    "model = TFBertModel.from_pretrained('bert-base-cased')"
   ]
  },
  {
   "cell_type": "code",
   "execution_count": 33,
   "id": "0afd586b",
   "metadata": {},
   "outputs": [],
   "source": [
    "x_train = tokenizer (\n",
    "    text = data_train.prompt.tolist(),\n",
    "    add_special_tokens = True,\n",
    "    max_length = 64,\n",
    "    truncation = True,\n",
    "    padding = True,\n",
    "    return_tensors = 'tf',\n",
    "    return_token_type_ids = False,\n",
    "    return_attention_mask = True,\n",
    "    verbose = True\n",
    ")\n",
    "\n",
    "x_test = tokenizer (\n",
    "    text = data_test.prompt.tolist(),\n",
    "    add_special_tokens = True,\n",
    "    max_length = 64,\n",
    "    truncation = True,\n",
    "    padding = True,\n",
    "    return_tensors = 'tf',\n",
    "    return_token_type_ids = False,\n",
    "    return_attention_mask = True,\n",
    "    verbose = True\n",
    ")"
   ]
  },
  {
   "cell_type": "code",
   "execution_count": 34,
   "id": "66263eb8",
   "metadata": {},
   "outputs": [
    {
     "data": {
      "text/plain": [
       "{'input_ids': <tf.Tensor: shape=(3084, 64), dtype=int32, numpy=\n",
       "array([[ 101, 1271, 1156, ...,    0,    0,    0],\n",
       "       [ 101, 3232, 1383, ...,    0,    0,    0],\n",
       "       [ 101, 1419, 2356, ...,    0,    0,    0],\n",
       "       ...,\n",
       "       [ 101, 2463, 4517, ...,    0,    0,    0],\n",
       "       [ 101, 1884, 4661, ...,    0,    0,    0],\n",
       "       [ 101, 7775, 2816, ...,    0,    0,    0]], dtype=int32)>, 'attention_mask': <tf.Tensor: shape=(3084, 64), dtype=int32, numpy=\n",
       "array([[1, 1, 1, ..., 0, 0, 0],\n",
       "       [1, 1, 1, ..., 0, 0, 0],\n",
       "       [1, 1, 1, ..., 0, 0, 0],\n",
       "       ...,\n",
       "       [1, 1, 1, ..., 0, 0, 0],\n",
       "       [1, 1, 1, ..., 0, 0, 0],\n",
       "       [1, 1, 1, ..., 0, 0, 0]], dtype=int32)>}"
      ]
     },
     "execution_count": 34,
     "metadata": {},
     "output_type": "execute_result"
    }
   ],
   "source": [
    "x_train"
   ]
  },
  {
   "cell_type": "code",
   "execution_count": 35,
   "id": "62fc5f62",
   "metadata": {},
   "outputs": [
    {
     "data": {
      "text/plain": [
       "{'input_ids': <tf.Tensor: shape=(343, 64), dtype=int32, numpy=\n",
       "array([[  101,  4725,  1965, ...,     0,     0,     0],\n",
       "       [  101,  2393,  7235, ...,     0,     0,     0],\n",
       "       [  101,  1546,  3531, ...,     0,     0,     0],\n",
       "       ...,\n",
       "       [  101,   177,  2217, ...,     0,     0,     0],\n",
       "       [  101, 23290, 18349, ...,     0,     0,     0],\n",
       "       [  101,  1560, 16416, ...,     0,     0,     0]], dtype=int32)>, 'attention_mask': <tf.Tensor: shape=(343, 64), dtype=int32, numpy=\n",
       "array([[1, 1, 1, ..., 0, 0, 0],\n",
       "       [1, 1, 1, ..., 0, 0, 0],\n",
       "       [1, 1, 1, ..., 0, 0, 0],\n",
       "       ...,\n",
       "       [1, 1, 1, ..., 0, 0, 0],\n",
       "       [1, 1, 1, ..., 0, 0, 0],\n",
       "       [1, 1, 1, ..., 0, 0, 0]], dtype=int32)>}"
      ]
     },
     "execution_count": 35,
     "metadata": {},
     "output_type": "execute_result"
    }
   ],
   "source": [
    "x_test"
   ]
  },
  {
   "cell_type": "code",
   "execution_count": 36,
   "id": "ae9f7ed1",
   "metadata": {},
   "outputs": [],
   "source": [
    "import tensorflow as tf\n",
    "from tensorflow.keras.optimizers import Adam\n",
    "from tensorflow.keras.losses import CategoricalCrossentropy\n",
    "from tensorflow.keras.metrics import CategoricalAccuracy"
   ]
  },
  {
   "cell_type": "code",
   "execution_count": 37,
   "id": "8b6d4e46",
   "metadata": {},
   "outputs": [],
   "source": [
    "max_length = 64\n",
    "\n",
    "from tensorflow.keras.layers import Input, Dense\n",
    "\n",
    "input_ids = Input(shape=(max_length,), dtype=tf.int32, name ='input_ids')\n",
    "input_mask = Input(shape=(max_length,), dtype=tf.int32, name ='attention_mask')\n",
    "\n",
    "embeddings = model(input_ids,attention_mask = input_mask)[0]\n",
    "out = tf.keras.layers.GlobalMaxPool1D()(embeddings)\n",
    "out = Dense(128, activation='relu')(out)\n",
    "out = tf.keras.layers.Dropout(0.1)(out)\n",
    "out = Dense(64, activation = 'relu')(out)\n",
    "\n",
    "y = Dense(30, activation = 'sigmoid')(out) #30 sentiments\n",
    "\n",
    "model = tf.keras.Model(inputs=[input_ids, input_mask], outputs=y)\n",
    "model.layers[2].trainable = True"
   ]
  },
  {
   "cell_type": "code",
   "execution_count": 38,
   "id": "7546f7e1",
   "metadata": {},
   "outputs": [
    {
     "data": {
      "text/plain": [
       "[<keras.engine.input_layer.InputLayer at 0x7fbe7ecf6be0>,\n",
       " <keras.engine.input_layer.InputLayer at 0x7fbe7ecf6b80>,\n",
       " <transformers.models.bert.modeling_tf_bert.TFBertModel at 0x7fbe8ce082e0>,\n",
       " <keras.layers.pooling.global_max_pooling1d.GlobalMaxPooling1D at 0x7fbe7ecec280>,\n",
       " <keras.layers.core.dense.Dense at 0x7fbe8c113c40>,\n",
       " <keras.layers.regularization.dropout.Dropout at 0x7fbe8c4866a0>,\n",
       " <keras.layers.core.dense.Dense at 0x7fbf554e7be0>,\n",
       " <keras.layers.core.dense.Dense at 0x7fbe8c13b1c0>]"
      ]
     },
     "execution_count": 38,
     "metadata": {},
     "output_type": "execute_result"
    }
   ],
   "source": [
    "model.layers"
   ]
  },
  {
   "cell_type": "code",
   "execution_count": 39,
   "id": "246fc6a8",
   "metadata": {},
   "outputs": [
    {
     "name": "stdout",
     "output_type": "stream",
     "text": [
      "Model: \"model\"\n",
      "__________________________________________________________________________________________________\n",
      " Layer (type)                   Output Shape         Param #     Connected to                     \n",
      "==================================================================================================\n",
      " input_ids (InputLayer)         [(None, 64)]         0           []                               \n",
      "                                                                                                  \n",
      " attention_mask (InputLayer)    [(None, 64)]         0           []                               \n",
      "                                                                                                  \n",
      " tf_bert_model_1 (TFBertModel)  TFBaseModelOutputWi  108310272   ['input_ids[0][0]',              \n",
      "                                thPoolingAndCrossAt               'attention_mask[0][0]']         \n",
      "                                tentions(last_hidde                                               \n",
      "                                n_state=(None, 64,                                                \n",
      "                                768),                                                             \n",
      "                                 pooler_output=(Non                                               \n",
      "                                e, 768),                                                          \n",
      "                                 past_key_values=No                                               \n",
      "                                ne, hidden_states=N                                               \n",
      "                                one, attentions=Non                                               \n",
      "                                e, cross_attentions                                               \n",
      "                                =None)                                                            \n",
      "                                                                                                  \n",
      " global_max_pooling1d (GlobalMa  (None, 768)         0           ['tf_bert_model_1[0][0]']        \n",
      " xPooling1D)                                                                                      \n",
      "                                                                                                  \n",
      " dense (Dense)                  (None, 128)          98432       ['global_max_pooling1d[0][0]']   \n",
      "                                                                                                  \n",
      " dropout_74 (Dropout)           (None, 128)          0           ['dense[0][0]']                  \n",
      "                                                                                                  \n",
      " dense_1 (Dense)                (None, 64)           8256        ['dropout_74[0][0]']             \n",
      "                                                                                                  \n",
      " dense_2 (Dense)                (None, 30)           1950        ['dense_1[0][0]']                \n",
      "                                                                                                  \n",
      "==================================================================================================\n",
      "Total params: 108,418,910\n",
      "Trainable params: 108,418,910\n",
      "Non-trainable params: 0\n",
      "__________________________________________________________________________________________________\n"
     ]
    }
   ],
   "source": [
    "model.summary()"
   ]
  },
  {
   "cell_type": "code",
   "execution_count": 40,
   "id": "7a2417b6",
   "metadata": {},
   "outputs": [],
   "source": [
    "optimizer = Adam(\n",
    "    learning_rate=5e-05,\n",
    "    epsilon=1e-08,\n",
    "    clipnorm=1.0\n",
    ")\n",
    "\n",
    "loss =CategoricalCrossentropy()\n",
    "metric = CategoricalAccuracy('accuracy'),\n",
    "\n",
    "model.compile(\n",
    "    optimizer = optimizer,\n",
    "    loss = loss, \n",
    "    metrics= metric\n",
    ")"
   ]
  },
  {
   "cell_type": "code",
   "execution_count": 41,
   "id": "51d66689",
   "metadata": {
    "scrolled": false
   },
   "outputs": [
    {
     "name": "stdout",
     "output_type": "stream",
     "text": [
      "Epoch 1/15\n",
      "WARNING:tensorflow:Gradients do not exist for variables ['tf_bert_model_1/bert/pooler/dense/kernel:0', 'tf_bert_model_1/bert/pooler/dense/bias:0'] when minimizing the loss. If you're using `model.compile()`, did you forget to provide a `loss` argument?\n",
      "WARNING:tensorflow:Gradients do not exist for variables ['tf_bert_model_1/bert/pooler/dense/kernel:0', 'tf_bert_model_1/bert/pooler/dense/bias:0'] when minimizing the loss. If you're using `model.compile()`, did you forget to provide a `loss` argument?\n",
      "WARNING:tensorflow:Gradients do not exist for variables ['tf_bert_model_1/bert/pooler/dense/kernel:0', 'tf_bert_model_1/bert/pooler/dense/bias:0'] when minimizing the loss. If you're using `model.compile()`, did you forget to provide a `loss` argument?\n",
      "WARNING:tensorflow:Gradients do not exist for variables ['tf_bert_model_1/bert/pooler/dense/kernel:0', 'tf_bert_model_1/bert/pooler/dense/bias:0'] when minimizing the loss. If you're using `model.compile()`, did you forget to provide a `loss` argument?\n",
      "86/86 [==============================] - 621s 7s/step - loss: 3.2621 - accuracy: 0.1044 - val_loss: 3.1601 - val_accuracy: 0.1399\n",
      "Epoch 2/15\n",
      "86/86 [==============================] - 632s 7s/step - loss: 3.1106 - accuracy: 0.1365 - val_loss: 3.1258 - val_accuracy: 0.1195\n",
      "Epoch 3/15\n",
      "86/86 [==============================] - 619s 7s/step - loss: 2.9902 - accuracy: 0.1654 - val_loss: 3.1224 - val_accuracy: 0.1312\n",
      "Epoch 4/15\n",
      "86/86 [==============================] - 582s 7s/step - loss: 2.8173 - accuracy: 0.2033 - val_loss: 3.1383 - val_accuracy: 0.1108\n",
      "Epoch 5/15\n",
      "86/86 [==============================] - 584s 7s/step - loss: 2.6165 - accuracy: 0.2464 - val_loss: 3.2533 - val_accuracy: 0.1079\n",
      "Epoch 6/15\n",
      "86/86 [==============================] - 584s 7s/step - loss: 2.4359 - accuracy: 0.2899 - val_loss: 3.2578 - val_accuracy: 0.1137\n",
      "Epoch 7/15\n",
      "86/86 [==============================] - 582s 7s/step - loss: 2.2386 - accuracy: 0.3346 - val_loss: 3.5128 - val_accuracy: 0.1108\n",
      "Epoch 8/15\n",
      "86/86 [==============================] - 584s 7s/step - loss: 2.0708 - accuracy: 0.3904 - val_loss: 3.6344 - val_accuracy: 0.1195\n",
      "Epoch 9/15\n",
      "86/86 [==============================] - 598s 7s/step - loss: 1.9226 - accuracy: 0.4137 - val_loss: 3.8921 - val_accuracy: 0.0875\n",
      "Epoch 10/15\n",
      "86/86 [==============================] - 600s 7s/step - loss: 1.7683 - accuracy: 0.4546 - val_loss: 3.9525 - val_accuracy: 0.0787\n",
      "Epoch 11/15\n",
      "86/86 [==============================] - 590s 7s/step - loss: 1.6439 - accuracy: 0.4835 - val_loss: 4.1131 - val_accuracy: 0.0700\n",
      "Epoch 12/15\n",
      "86/86 [==============================] - 586s 7s/step - loss: 1.5523 - accuracy: 0.4968 - val_loss: 4.2540 - val_accuracy: 0.0787\n",
      "Epoch 13/15\n",
      "86/86 [==============================] - 574s 7s/step - loss: 1.4348 - accuracy: 0.5220 - val_loss: 4.3694 - val_accuracy: 0.0729\n",
      "Epoch 14/15\n",
      "86/86 [==============================] - 571s 7s/step - loss: 1.3799 - accuracy: 0.5256 - val_loss: 4.4986 - val_accuracy: 0.0729\n",
      "Epoch 15/15\n",
      "86/86 [==============================] - 570s 7s/step - loss: 1.3243 - accuracy: 0.5529 - val_loss: 4.5189 - val_accuracy: 0.0612\n"
     ]
    }
   ],
   "source": [
    "train = model.fit(\n",
    "    x = {'input_ids': x_train['input_ids'], 'attention_mask':x_train['attention_mask']},\n",
    "    y = y_train,\n",
    "    validation_data = ({'input_ids':x_test['input_ids'],'attention_mask':x_test['attention_mask']}, y_test),\n",
    "    epochs = 15,\n",
    "    batch_size = 36\n",
    ")"
   ]
  },
  {
   "cell_type": "code",
   "execution_count": 48,
   "id": "05fc36c9",
   "metadata": {},
   "outputs": [
    {
     "name": "stdout",
     "output_type": "stream",
     "text": [
      "11/11 [==============================] - 17s 2s/step - loss: 4.5189 - accuracy: 0.0612\n"
     ]
    },
    {
     "data": {
      "text/plain": [
       "[4.518918514251709, 0.06122449040412903]"
      ]
     },
     "execution_count": 48,
     "metadata": {},
     "output_type": "execute_result"
    }
   ],
   "source": [
    "model.evaluate({'input_ids':x_test['input_ids'],'attention_mask':x_test['attention_mask']}, y_test)"
   ]
  },
  {
   "cell_type": "code",
   "execution_count": 42,
   "id": "4d87a5be",
   "metadata": {},
   "outputs": [
    {
     "name": "stdout",
     "output_type": "stream",
     "text": [
      "11/11 [==============================] - 20s 2s/step\n"
     ]
    },
    {
     "data": {
      "text/plain": [
       "array([0.656884  , 0.10363031, 0.259188  , 0.7253719 , 0.10720455,\n",
       "       0.9263395 , 0.14916213, 0.36661822, 0.8478236 , 0.9429128 ,\n",
       "       0.9789175 , 0.23548219, 0.03961743, 0.3107304 , 0.20336056,\n",
       "       0.9163917 , 0.42418185, 0.20472069, 0.99262685, 0.71728975,\n",
       "       0.71015215, 0.03672089, 0.24941668, 0.3921196 , 0.39976424,\n",
       "       0.4642519 , 0.9407304 , 0.7090409 , 0.10434556, 0.6670472 ],\n",
       "      dtype=float32)"
      ]
     },
     "execution_count": 42,
     "metadata": {},
     "output_type": "execute_result"
    }
   ],
   "source": [
    "predicted_raw = model.predict({'input_ids':x_test['input_ids'],'attention_mask':x_test['attention_mask']})\n",
    "predicted_raw[0]"
   ]
  },
  {
   "cell_type": "code",
   "execution_count": 44,
   "id": "f4307365",
   "metadata": {},
   "outputs": [],
   "source": [
    "y_predicted = np.argmax(predicted_raw, axis = 1)\n",
    "y_true = data_test.completion"
   ]
  },
  {
   "cell_type": "code",
   "execution_count": 45,
   "id": "ab3aea03",
   "metadata": {
    "scrolled": true
   },
   "outputs": [
    {
     "name": "stdout",
     "output_type": "stream",
     "text": [
      "42       9\n",
      "2862    26\n",
      "1962     9\n",
      "2700    14\n",
      "3100     2\n",
      "        ..\n",
      "610     12\n",
      "1185     0\n",
      "647     15\n",
      "1165     3\n",
      "3058    15\n",
      "Name: completion, Length: 343, dtype: int64\n"
     ]
    }
   ],
   "source": [
    "print(y_true)"
   ]
  },
  {
   "cell_type": "code",
   "execution_count": 46,
   "id": "985dfa77",
   "metadata": {},
   "outputs": [
    {
     "name": "stdout",
     "output_type": "stream",
     "text": [
      "[18 16  2  7  5 18  5 21 28 19  0 15 18 15 16 12 28  9  5  7 27  0 15 16\n",
      "  3 10 15 24  9 18  2 14 27  9  1 27  2 22 12  7 18 10  1 10 10 14 15  9\n",
      " 18 11 18  2 10  5 15  0  3 14 27  9  3 15 26 18  0 27 20 29  8 26  9  9\n",
      " 18 26 10  3 18 10  2  0 11 24 16  3 15 10 27 16 27 14  3 16  9  5  3 27\n",
      "  2 18  2 24  9  9  2 14 15  5  9 18 12 27 10 11 29 18 18  0 10 17  9  7\n",
      "  3  3 29  7 10 16  5  1 19  1  7  9  3 10 18  9  9 20  3 18  7  9  7 14\n",
      "  5 20 10 27 29 10 28 23 10  1  5 21 15  0 10 12 10 21 24 27 10  9 12  1\n",
      " 12 27 18  2 20  7  9 18  2 27  8  5  8  8 10 27  5 23 20 29 22 12  9  5\n",
      " 10 10 27 29  2 23 10  3 14 10 10 12  7 14  9  7  5 27 29 14 12 12  8 15\n",
      " 18 28 15  7  1  9 14 12  3 26  9 18 22  2 18 18 26  2 24  9 14 24 18 13\n",
      " 21  9 12 12  1  7 10 27  8  3 12 10  9  3 10  3  6  1 22  9 20  2 18 18\n",
      "  3  5  3 27  0 15 15 24 22 28 10 29 18 18 12 17  9  7  2 10 18 15 27 10\n",
      "  9 18 20  8  5 15  9 15 15 14 12 15 18 15 10  6 18 18 18  9 14 26  2 16\n",
      " 10 14  2  9  7  5 25 29 23 10  6  2 24 27 10 18 16  2 14  2  3 16 10  7\n",
      " 27  2 10  5  9 27  9]\n"
     ]
    }
   ],
   "source": [
    "print(y_predicted)"
   ]
  },
  {
   "cell_type": "code",
   "execution_count": 47,
   "id": "77e583c0",
   "metadata": {
    "scrolled": false
   },
   "outputs": [
    {
     "name": "stdout",
     "output_type": "stream",
     "text": [
      "              precision    recall  f1-score   support\n",
      "\n",
      "           0       0.00      0.00      0.00        16\n",
      "           1       0.11      0.17      0.13         6\n",
      "           2       0.10      0.13      0.11        15\n",
      "           3       0.11      0.13      0.12        15\n",
      "           4       0.00      0.00      0.00         5\n",
      "           5       0.00      0.00      0.00        14\n",
      "           6       0.00      0.00      0.00         3\n",
      "           7       0.00      0.00      0.00         9\n",
      "           8       0.00      0.00      0.00         9\n",
      "           9       0.06      0.09      0.07        23\n",
      "          10       0.17      0.13      0.14        47\n",
      "          11       0.00      0.00      0.00         4\n",
      "          12       0.00      0.00      0.00        20\n",
      "          13       0.00      0.00      0.00         2\n",
      "          14       0.07      0.07      0.07        15\n",
      "          15       0.15      0.12      0.14        24\n",
      "          16       0.00      0.00      0.00         7\n",
      "          17       0.00      0.00      0.00         3\n",
      "          18       0.03      0.04      0.03        24\n",
      "          19       0.00      0.00      0.00         4\n",
      "          20       0.14      0.11      0.12         9\n",
      "          21       0.00      0.00      0.00         3\n",
      "          22       0.00      0.00      0.00         3\n",
      "          23       0.00      0.00      0.00         4\n",
      "          24       0.00      0.00      0.00        11\n",
      "          25       0.00      0.00      0.00         5\n",
      "          26       0.17      0.09      0.12        11\n",
      "          27       0.05      0.05      0.05        21\n",
      "          28       0.00      0.00      0.00         5\n",
      "          29       0.00      0.00      0.00         6\n",
      "\n",
      "    accuracy                           0.06       343\n",
      "   macro avg       0.04      0.04      0.04       343\n",
      "weighted avg       0.06      0.06      0.06       343\n",
      "\n"
     ]
    },
    {
     "name": "stderr",
     "output_type": "stream",
     "text": [
      "/anaconda/envs/azureml_py38/lib/python3.8/site-packages/sklearn/metrics/_classification.py:1469: UndefinedMetricWarning: Precision and F-score are ill-defined and being set to 0.0 in labels with no predicted samples. Use `zero_division` parameter to control this behavior.\n",
      "  _warn_prf(average, modifier, msg_start, len(result))\n",
      "/anaconda/envs/azureml_py38/lib/python3.8/site-packages/sklearn/metrics/_classification.py:1469: UndefinedMetricWarning: Precision and F-score are ill-defined and being set to 0.0 in labels with no predicted samples. Use `zero_division` parameter to control this behavior.\n",
      "  _warn_prf(average, modifier, msg_start, len(result))\n",
      "/anaconda/envs/azureml_py38/lib/python3.8/site-packages/sklearn/metrics/_classification.py:1469: UndefinedMetricWarning: Precision and F-score are ill-defined and being set to 0.0 in labels with no predicted samples. Use `zero_division` parameter to control this behavior.\n",
      "  _warn_prf(average, modifier, msg_start, len(result))\n"
     ]
    }
   ],
   "source": [
    "from sklearn.metrics import classification_report\n",
    "\n",
    "print(classification_report(y_true, y_predicted))"
   ]
  },
  {
   "cell_type": "code",
   "execution_count": 50,
   "id": "22848528",
   "metadata": {},
   "outputs": [
    {
     "data": {
      "text/plain": [
       "Text(95.72222222222221, 0.5, 'Truth')"
      ]
     },
     "execution_count": 50,
     "metadata": {},
     "output_type": "execute_result"
    },
    {
     "data": {
      "image/png": "[encoded data removed]",
      "text/plain": [
       "<Figure size 1000x700 with 2 Axes>"
      ]
     },
     "metadata": {},
     "output_type": "display_data"
    }
   ],
   "source": [
    "import seaborn as sn\n",
    "from matplotlib import pyplot as plt\n",
    "%matplotlib inline\n",
    "\n",
    "cm = tf.math.confusion_matrix(labels=y_true,predictions=y_predicted)\n",
    "\n",
    "plt.figure(figsize = (10,7))\n",
    "sn.heatmap(cm, annot=True, fmt='d')\n",
    "plt.xlabel('Predicted')\n",
    "plt.ylabel('Truth')"
   ]
  },
  {
   "cell_type": "code",
   "execution_count": 51,
   "id": "bb8caf0c",
   "metadata": {},
   "outputs": [
    {
     "name": "stdout",
     "output_type": "stream",
     "text": [
      "      y_true  y_predicted\n",
      "42         9           18\n",
      "2862      26           16\n",
      "1962       9            2\n",
      "2700      14            7\n",
      "3100       2            5\n",
      "...      ...          ...\n",
      "610       12           10\n",
      "1185       0            5\n",
      "647       15            9\n",
      "1165       3           27\n",
      "3058      15            9\n",
      "\n",
      "[343 rows x 2 columns]\n"
     ]
    }
   ],
   "source": [
    "df_predictions = pd.DataFrame({'y_true': y_true, 'y_predicted': y_predicted})\n",
    "print(df_predictions)"
   ]
  },
  {
   "cell_type": "code",
   "execution_count": 53,
   "id": "a13d0bea",
   "metadata": {},
   "outputs": [
    {
     "name": "stdout",
     "output_type": "stream",
     "text": [
      "21\n"
     ]
    }
   ],
   "source": [
    "correct_predictions = (df_predictions['y_true'] == df_predictions['y_predicted']).sum()\n",
    "print(correct_predictions)"
   ]
  },
  {
   "cell_type": "code",
   "execution_count": 54,
   "id": "99e79b30",
   "metadata": {},
   "outputs": [
    {
     "data": {
      "text/plain": [
       "(343, 2)"
      ]
     },
     "execution_count": 54,
     "metadata": {},
     "output_type": "execute_result"
    }
   ],
   "source": [
    "df_predictions.shape"
   ]
  },
  {
   "cell_type": "code",
   "execution_count": 55,
   "id": "f714d68c",
   "metadata": {
    "scrolled": true
   },
   "outputs": [
    {
     "data": {
      "text/plain": [
       "y_predicted\n",
       "10    36\n",
       "18    34\n",
       "9     33\n",
       "27    22\n",
       "2     21\n",
       "15    20\n",
       "3     19\n",
       "5     17\n",
       "7     16\n",
       "12    16\n",
       "14    15\n",
       "16    10\n",
       "29     9\n",
       "1      9\n",
       "24     8\n",
       "0      8\n",
       "20     7\n",
       "8      7\n",
       "26     6\n",
       "28     5\n",
       "22     5\n",
       "21     4\n",
       "23     4\n",
       "11     3\n",
       "6      3\n",
       "19     2\n",
       "17     2\n",
       "13     1\n",
       "25     1\n",
       "Name: count, dtype: int64"
      ]
     },
     "execution_count": 55,
     "metadata": {},
     "output_type": "execute_result"
    }
   ],
   "source": [
    "df_predictions['y_predicted'].value_counts()"
   ]
  },
  {
   "cell_type": "code",
   "execution_count": 1,
   "id": "d0e2a4f1",
   "metadata": {},
   "outputs": [
    {
     "ename": "NameError",
     "evalue": "name 'df_predictions' is not defined",
     "output_type": "error",
     "traceback": [
      "\u001b[0;31m---------------------------------------------------------------------------\u001b[0m",
      "\u001b[0;31mNameError\u001b[0m                                 Traceback (most recent call last)",
      "Cell \u001b[0;32mIn[1], line 1\u001b[0m\n\u001b[0;32m----> 1\u001b[0m \u001b[43mdf_predictions\u001b[49m\n",
      "\u001b[0;31mNameError\u001b[0m: name 'df_predictions' is not defined"
     ]
    }
   ],
   "source": [
    "df_predictions"
   ]
  },
  {
   "cell_type": "code",
   "execution_count": 56,
   "id": "d716d13a",
   "metadata": {},
   "outputs": [
    {
     "ename": "SyntaxError",
     "evalue": "invalid syntax (3846877110.py, line 1)",
     "output_type": "error",
     "traceback": [
      "\u001b[0;36m  Cell \u001b[0;32mIn[56], line 1\u001b[0;36m\u001b[0m\n\u001b[0;31m    10    466\u001b[0m\n\u001b[0m          ^\u001b[0m\n\u001b[0;31mSyntaxError\u001b[0m\u001b[0;31m:\u001b[0m invalid syntax\n"
     ]
    }
   ],
   "source": [
    "10    466\n",
    "18    239\n",
    "15    236\n",
    "9     230\n",
    "27    205\n",
    "12    201\n",
    "0     161\n",
    "3     154\n",
    "14    147\n",
    "2     147\n",
    "5     143\n",
    "26    114\n",
    "24    111\n",
    "7      93\n",
    "20     88\n",
    "8      85\n",
    "16     74\n",
    "1      63\n",
    "29     57\n",
    "4      49\n",
    "28     49\n",
    "25     47\n",
    "19     43\n",
    "11     42\n",
    "23     42\n",
    "21     34\n",
    "22     32\n",
    "17     32\n",
    "6      28\n",
    "13     15"
   ]
  },
  {
   "cell_type": "code",
   "execution_count": null,
   "id": "756a61a0",
   "metadata": {},
   "outputs": [],
   "source": []
  },
  {
   "cell_type": "code",
   "execution_count": null,
   "id": "0149d4dd",
   "metadata": {},
   "outputs": [],
   "source": []
  },
  {
   "cell_type": "code",
   "execution_count": 66,
   "id": "af4c2e59",
   "metadata": {},
   "outputs": [],
   "source": [
    "optimizer2 = Adam(\n",
    "    learning_rate=5e-05,\n",
    "    epsilon=1e-08,\n",
    "    weight_decay=0.01\n",
    ")\n",
    "\n",
    "loss =CategoricalCrossentropy()\n",
    "metric = CategoricalAccuracy('balanced_accuracy'),\n",
    "\n",
    "model.compile(\n",
    "    optimizer = optimizer2,\n",
    "    loss = loss, \n",
    "    metrics= metric\n",
    ")"
   ]
  },
  {
   "cell_type": "code",
   "execution_count": 67,
   "id": "c12024b9",
   "metadata": {},
   "outputs": [
    {
     "name": "stdout",
     "output_type": "stream",
     "text": [
      "WARNING:tensorflow:Gradients do not exist for variables ['tf_bert_model_1/bert/pooler/dense/kernel:0', 'tf_bert_model_1/bert/pooler/dense/bias:0'] when minimizing the loss. If you're using `model.compile()`, did you forget to provide a `loss` argument?\n",
      "WARNING:tensorflow:Gradients do not exist for variables ['tf_bert_model_1/bert/pooler/dense/kernel:0', 'tf_bert_model_1/bert/pooler/dense/bias:0'] when minimizing the loss. If you're using `model.compile()`, did you forget to provide a `loss` argument?\n",
      "WARNING:tensorflow:Gradients do not exist for variables ['tf_bert_model_1/bert/pooler/dense/kernel:0', 'tf_bert_model_1/bert/pooler/dense/bias:0'] when minimizing the loss. If you're using `model.compile()`, did you forget to provide a `loss` argument?\n",
      "WARNING:tensorflow:Gradients do not exist for variables ['tf_bert_model_1/bert/pooler/dense/kernel:0', 'tf_bert_model_1/bert/pooler/dense/bias:0'] when minimizing the loss. If you're using `model.compile()`, did you forget to provide a `loss` argument?\n",
      "86/86 [==============================] - 605s 7s/step - loss: 1.2171 - balanced_accuracy: 0.5470 - val_loss: 4.8719 - val_balanced_accuracy: 0.0641\n"
     ]
    }
   ],
   "source": [
    "train2 = model.fit(\n",
    "    x = {'input_ids': x_train['input_ids'], 'attention_mask':x_train['attention_mask']},\n",
    "    y = y_train,\n",
    "    validation_data = ({'input_ids':x_test['input_ids'],'attention_mask':x_test['attention_mask']}, y_test),\n",
    "    epochs = 1,\n",
    "    batch_size = 36\n",
    ")"
   ]
  },
  {
   "cell_type": "code",
   "execution_count": 65,
   "id": "568c6988",
   "metadata": {},
   "outputs": [
    {
     "name": "stdout",
     "output_type": "stream",
     "text": [
      "11/11 [==============================] - 18s 2s/step - loss: 4.7083 - balanced_accuracy: 0.0466\n"
     ]
    },
    {
     "data": {
      "text/plain": [
       "[4.708252429962158, 0.04664723202586174]"
      ]
     },
     "execution_count": 65,
     "metadata": {},
     "output_type": "execute_result"
    }
   ],
   "source": [
    "model.evaluate({'input_ids':x_test['input_ids'],'attention_mask':x_test['attention_mask']}, y_test)"
   ]
  },
  {
   "cell_type": "code",
   "execution_count": null,
   "id": "a1d1a1f6",
   "metadata": {},
   "outputs": [],
   "source": []
  }
 ],
 "metadata": {
  "kernelspec": {
   "display_name": "Python 3.8 - AzureML",
   "language": "python",
   "name": "python38-azureml"
  },
  "language_info": {
   "codemirror_mode": {
    "name": "ipython",
    "version": 3
   },
   "file_extension": ".py",
   "mimetype": "text/x-python",
   "name": "python",
   "nbconvert_exporter": "python",
   "pygments_lexer": "ipython3",
   "version": "3.8.5"
  }
 },
 "nbformat": 4,
 "nbformat_minor": 5
}
